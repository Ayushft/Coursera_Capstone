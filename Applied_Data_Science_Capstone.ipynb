{
  "nbformat": 4,
  "nbformat_minor": 0,
  "metadata": {
    "colab": {
      "name": "Applied Data Science Capstone",
      "provenance": [],
      "mount_file_id": "1CyjxmVOzIysyzc2GKN672gsJR7m4Dvr5",
      "authorship_tag": "ABX9TyPtBCsRGRWggsET2P1yRvB6",
      "include_colab_link": true
    },
    "kernelspec": {
      "name": "python3",
      "display_name": "Python 3"
    }
  },
  "cells": [
    {
      "cell_type": "markdown",
      "metadata": {
        "id": "view-in-github",
        "colab_type": "text"
      },
      "source": [
        "<a href=\"https://colab.research.google.com/github/Ayushft/Coursera_Capstone/blob/master/Applied_Data_Science_Capstone.ipynb\" target=\"_parent\"><img src=\"https://colab.research.google.com/assets/colab-badge.svg\" alt=\"Open In Colab\"/></a>"
      ]
    },
    {
      "cell_type": "markdown",
      "metadata": {
        "id": "pRxQPp23K0E_",
        "colab_type": "text"
      },
      "source": [
        "### **Importing the required packages**\n",
        "\n"
      ]
    },
    {
      "cell_type": "code",
      "metadata": {
        "id": "jElUiWHRPuNt",
        "colab_type": "code",
        "colab": {}
      },
      "source": [
        "import pandas as pd\n",
        "import numpy as np\n",
        "import matplotlib.pyplot as plt\n",
        "import datetime"
      ],
      "execution_count": null,
      "outputs": []
    },
    {
      "cell_type": "markdown",
      "metadata": {
        "id": "F0N5V11aLZrl",
        "colab_type": "text"
      },
      "source": [
        "### Importing the dataset"
      ]
    },
    {
      "cell_type": "code",
      "metadata": {
        "id": "9xbASoNkhpCL",
        "colab_type": "code",
        "colab": {
          "base_uri": "https://localhost:8080/",
          "height": 34
        },
        "outputId": "af306e22-424b-4388-b44a-452d1d1b8874"
      },
      "source": [
        "print(\"Hello Capstone Project Course!\")"
      ],
      "execution_count": null,
      "outputs": [
        {
          "output_type": "stream",
          "text": [
            "Hello Capstone Project Course!\n"
          ],
          "name": "stdout"
        }
      ]
    },
    {
      "cell_type": "code",
      "metadata": {
        "id": "qXIgAe8IQiRM",
        "colab_type": "code",
        "colab": {}
      },
      "source": [
        "raw_df = pd.read_csv(\"drive/My Drive/Data-Collisions.csv\",low_memory=False)"
      ],
      "execution_count": null,
      "outputs": []
    },
    {
      "cell_type": "code",
      "metadata": {
        "id": "5YhUYVdNQtbI",
        "colab_type": "code",
        "colab": {
          "base_uri": "https://localhost:8080/",
          "height": 686
        },
        "outputId": "c966ea69-d33f-46ad-ed05-13e51744f4eb"
      },
      "source": [
        "raw_df.head()"
      ],
      "execution_count": null,
      "outputs": [
        {
          "output_type": "execute_result",
          "data": {
            "text/html": [
              "<div>\n",
              "<style scoped>\n",
              "    .dataframe tbody tr th:only-of-type {\n",
              "        vertical-align: middle;\n",
              "    }\n",
              "\n",
              "    .dataframe tbody tr th {\n",
              "        vertical-align: top;\n",
              "    }\n",
              "\n",
              "    .dataframe thead th {\n",
              "        text-align: right;\n",
              "    }\n",
              "</style>\n",
              "<table border=\"1\" class=\"dataframe\">\n",
              "  <thead>\n",
              "    <tr style=\"text-align: right;\">\n",
              "      <th></th>\n",
              "      <th>SEVERITYCODE</th>\n",
              "      <th>X</th>\n",
              "      <th>Y</th>\n",
              "      <th>OBJECTID</th>\n",
              "      <th>INCKEY</th>\n",
              "      <th>COLDETKEY</th>\n",
              "      <th>REPORTNO</th>\n",
              "      <th>STATUS</th>\n",
              "      <th>ADDRTYPE</th>\n",
              "      <th>INTKEY</th>\n",
              "      <th>LOCATION</th>\n",
              "      <th>EXCEPTRSNCODE</th>\n",
              "      <th>EXCEPTRSNDESC</th>\n",
              "      <th>SEVERITYCODE.1</th>\n",
              "      <th>SEVERITYDESC</th>\n",
              "      <th>COLLISIONTYPE</th>\n",
              "      <th>PERSONCOUNT</th>\n",
              "      <th>PEDCOUNT</th>\n",
              "      <th>PEDCYLCOUNT</th>\n",
              "      <th>VEHCOUNT</th>\n",
              "      <th>INCDATE</th>\n",
              "      <th>INCDTTM</th>\n",
              "      <th>JUNCTIONTYPE</th>\n",
              "      <th>SDOT_COLCODE</th>\n",
              "      <th>SDOT_COLDESC</th>\n",
              "      <th>INATTENTIONIND</th>\n",
              "      <th>UNDERINFL</th>\n",
              "      <th>WEATHER</th>\n",
              "      <th>ROADCOND</th>\n",
              "      <th>LIGHTCOND</th>\n",
              "      <th>PEDROWNOTGRNT</th>\n",
              "      <th>SDOTCOLNUM</th>\n",
              "      <th>SPEEDING</th>\n",
              "      <th>ST_COLCODE</th>\n",
              "      <th>ST_COLDESC</th>\n",
              "      <th>SEGLANEKEY</th>\n",
              "      <th>CROSSWALKKEY</th>\n",
              "      <th>HITPARKEDCAR</th>\n",
              "    </tr>\n",
              "  </thead>\n",
              "  <tbody>\n",
              "    <tr>\n",
              "      <th>0</th>\n",
              "      <td>2</td>\n",
              "      <td>-122.323148</td>\n",
              "      <td>47.703140</td>\n",
              "      <td>1</td>\n",
              "      <td>1307</td>\n",
              "      <td>1307</td>\n",
              "      <td>3502005</td>\n",
              "      <td>Matched</td>\n",
              "      <td>Intersection</td>\n",
              "      <td>37475.0</td>\n",
              "      <td>5TH AVE NE AND NE 103RD ST</td>\n",
              "      <td></td>\n",
              "      <td>NaN</td>\n",
              "      <td>2</td>\n",
              "      <td>Injury Collision</td>\n",
              "      <td>Angles</td>\n",
              "      <td>2</td>\n",
              "      <td>0</td>\n",
              "      <td>0</td>\n",
              "      <td>2</td>\n",
              "      <td>2013/03/27 00:00:00+00</td>\n",
              "      <td>3/27/2013 2:54:00 PM</td>\n",
              "      <td>At Intersection (intersection related)</td>\n",
              "      <td>11.0</td>\n",
              "      <td>MOTOR VEHICLE STRUCK MOTOR VEHICLE, FRONT END ...</td>\n",
              "      <td>NaN</td>\n",
              "      <td>N</td>\n",
              "      <td>Overcast</td>\n",
              "      <td>Wet</td>\n",
              "      <td>Daylight</td>\n",
              "      <td>NaN</td>\n",
              "      <td>NaN</td>\n",
              "      <td>NaN</td>\n",
              "      <td>10</td>\n",
              "      <td>Entering at angle</td>\n",
              "      <td>0.0</td>\n",
              "      <td>0.0</td>\n",
              "      <td>N</td>\n",
              "    </tr>\n",
              "    <tr>\n",
              "      <th>1</th>\n",
              "      <td>1</td>\n",
              "      <td>-122.347294</td>\n",
              "      <td>47.647172</td>\n",
              "      <td>2</td>\n",
              "      <td>52200</td>\n",
              "      <td>52200</td>\n",
              "      <td>2607959</td>\n",
              "      <td>Matched</td>\n",
              "      <td>Block</td>\n",
              "      <td>NaN</td>\n",
              "      <td>AURORA BR BETWEEN RAYE ST AND BRIDGE WAY N</td>\n",
              "      <td>NaN</td>\n",
              "      <td>NaN</td>\n",
              "      <td>1</td>\n",
              "      <td>Property Damage Only Collision</td>\n",
              "      <td>Sideswipe</td>\n",
              "      <td>2</td>\n",
              "      <td>0</td>\n",
              "      <td>0</td>\n",
              "      <td>2</td>\n",
              "      <td>2006/12/20 00:00:00+00</td>\n",
              "      <td>12/20/2006 6:55:00 PM</td>\n",
              "      <td>Mid-Block (not related to intersection)</td>\n",
              "      <td>16.0</td>\n",
              "      <td>MOTOR VEHICLE STRUCK MOTOR VEHICLE, LEFT SIDE ...</td>\n",
              "      <td>NaN</td>\n",
              "      <td>0</td>\n",
              "      <td>Raining</td>\n",
              "      <td>Wet</td>\n",
              "      <td>Dark - Street Lights On</td>\n",
              "      <td>NaN</td>\n",
              "      <td>6354039.0</td>\n",
              "      <td>NaN</td>\n",
              "      <td>11</td>\n",
              "      <td>From same direction - both going straight - bo...</td>\n",
              "      <td>0.0</td>\n",
              "      <td>0.0</td>\n",
              "      <td>N</td>\n",
              "    </tr>\n",
              "    <tr>\n",
              "      <th>2</th>\n",
              "      <td>1</td>\n",
              "      <td>-122.334540</td>\n",
              "      <td>47.607871</td>\n",
              "      <td>3</td>\n",
              "      <td>26700</td>\n",
              "      <td>26700</td>\n",
              "      <td>1482393</td>\n",
              "      <td>Matched</td>\n",
              "      <td>Block</td>\n",
              "      <td>NaN</td>\n",
              "      <td>4TH AVE BETWEEN SENECA ST AND UNIVERSITY ST</td>\n",
              "      <td>NaN</td>\n",
              "      <td>NaN</td>\n",
              "      <td>1</td>\n",
              "      <td>Property Damage Only Collision</td>\n",
              "      <td>Parked Car</td>\n",
              "      <td>4</td>\n",
              "      <td>0</td>\n",
              "      <td>0</td>\n",
              "      <td>3</td>\n",
              "      <td>2004/11/18 00:00:00+00</td>\n",
              "      <td>11/18/2004 10:20:00 AM</td>\n",
              "      <td>Mid-Block (not related to intersection)</td>\n",
              "      <td>14.0</td>\n",
              "      <td>MOTOR VEHICLE STRUCK MOTOR VEHICLE, REAR END</td>\n",
              "      <td>NaN</td>\n",
              "      <td>0</td>\n",
              "      <td>Overcast</td>\n",
              "      <td>Dry</td>\n",
              "      <td>Daylight</td>\n",
              "      <td>NaN</td>\n",
              "      <td>4323031.0</td>\n",
              "      <td>NaN</td>\n",
              "      <td>32</td>\n",
              "      <td>One parked--one moving</td>\n",
              "      <td>0.0</td>\n",
              "      <td>0.0</td>\n",
              "      <td>N</td>\n",
              "    </tr>\n",
              "    <tr>\n",
              "      <th>3</th>\n",
              "      <td>1</td>\n",
              "      <td>-122.334803</td>\n",
              "      <td>47.604803</td>\n",
              "      <td>4</td>\n",
              "      <td>1144</td>\n",
              "      <td>1144</td>\n",
              "      <td>3503937</td>\n",
              "      <td>Matched</td>\n",
              "      <td>Block</td>\n",
              "      <td>NaN</td>\n",
              "      <td>2ND AVE BETWEEN MARION ST AND MADISON ST</td>\n",
              "      <td></td>\n",
              "      <td>NaN</td>\n",
              "      <td>1</td>\n",
              "      <td>Property Damage Only Collision</td>\n",
              "      <td>Other</td>\n",
              "      <td>3</td>\n",
              "      <td>0</td>\n",
              "      <td>0</td>\n",
              "      <td>3</td>\n",
              "      <td>2013/03/29 00:00:00+00</td>\n",
              "      <td>3/29/2013 9:26:00 AM</td>\n",
              "      <td>Mid-Block (not related to intersection)</td>\n",
              "      <td>11.0</td>\n",
              "      <td>MOTOR VEHICLE STRUCK MOTOR VEHICLE, FRONT END ...</td>\n",
              "      <td>NaN</td>\n",
              "      <td>N</td>\n",
              "      <td>Clear</td>\n",
              "      <td>Dry</td>\n",
              "      <td>Daylight</td>\n",
              "      <td>NaN</td>\n",
              "      <td>NaN</td>\n",
              "      <td>NaN</td>\n",
              "      <td>23</td>\n",
              "      <td>From same direction - all others</td>\n",
              "      <td>0.0</td>\n",
              "      <td>0.0</td>\n",
              "      <td>N</td>\n",
              "    </tr>\n",
              "    <tr>\n",
              "      <th>4</th>\n",
              "      <td>2</td>\n",
              "      <td>-122.306426</td>\n",
              "      <td>47.545739</td>\n",
              "      <td>5</td>\n",
              "      <td>17700</td>\n",
              "      <td>17700</td>\n",
              "      <td>1807429</td>\n",
              "      <td>Matched</td>\n",
              "      <td>Intersection</td>\n",
              "      <td>34387.0</td>\n",
              "      <td>SWIFT AVE S AND SWIFT AV OFF RP</td>\n",
              "      <td>NaN</td>\n",
              "      <td>NaN</td>\n",
              "      <td>2</td>\n",
              "      <td>Injury Collision</td>\n",
              "      <td>Angles</td>\n",
              "      <td>2</td>\n",
              "      <td>0</td>\n",
              "      <td>0</td>\n",
              "      <td>2</td>\n",
              "      <td>2004/01/28 00:00:00+00</td>\n",
              "      <td>1/28/2004 8:04:00 AM</td>\n",
              "      <td>At Intersection (intersection related)</td>\n",
              "      <td>11.0</td>\n",
              "      <td>MOTOR VEHICLE STRUCK MOTOR VEHICLE, FRONT END ...</td>\n",
              "      <td>NaN</td>\n",
              "      <td>0</td>\n",
              "      <td>Raining</td>\n",
              "      <td>Wet</td>\n",
              "      <td>Daylight</td>\n",
              "      <td>NaN</td>\n",
              "      <td>4028032.0</td>\n",
              "      <td>NaN</td>\n",
              "      <td>10</td>\n",
              "      <td>Entering at angle</td>\n",
              "      <td>0.0</td>\n",
              "      <td>0.0</td>\n",
              "      <td>N</td>\n",
              "    </tr>\n",
              "  </tbody>\n",
              "</table>\n",
              "</div>"
            ],
            "text/plain": [
              "   SEVERITYCODE           X          Y  ...  SEGLANEKEY  CROSSWALKKEY  HITPARKEDCAR\n",
              "0             2 -122.323148  47.703140  ...         0.0           0.0             N\n",
              "1             1 -122.347294  47.647172  ...         0.0           0.0             N\n",
              "2             1 -122.334540  47.607871  ...         0.0           0.0             N\n",
              "3             1 -122.334803  47.604803  ...         0.0           0.0             N\n",
              "4             2 -122.306426  47.545739  ...         0.0           0.0             N\n",
              "\n",
              "[5 rows x 38 columns]"
            ]
          },
          "metadata": {
            "tags": []
          },
          "execution_count": 6
        }
      ]
    },
    {
      "cell_type": "markdown",
      "metadata": {
        "id": "plViCA3ILjLT",
        "colab_type": "text"
      },
      "source": [
        "### Performing data operations"
      ]
    },
    {
      "cell_type": "code",
      "metadata": {
        "id": "v8dWBAaMQxN6",
        "colab_type": "code",
        "colab": {
          "base_uri": "https://localhost:8080/",
          "height": 67
        },
        "outputId": "a0328580-95bc-4580-dc35-52cbd5bf33cb"
      },
      "source": [
        "raw_df['SEVERITYCODE'].value_counts()"
      ],
      "execution_count": null,
      "outputs": [
        {
          "output_type": "execute_result",
          "data": {
            "text/plain": [
              "1    9588\n",
              "2    4258\n",
              "Name: SEVERITYCODE, dtype: int64"
            ]
          },
          "metadata": {
            "tags": []
          },
          "execution_count": 75
        }
      ]
    },
    {
      "cell_type": "markdown",
      "metadata": {
        "id": "-b5WFck6Gj0q",
        "colab_type": "text"
      },
      "source": [
        "Since the labels of Severity are in unequal frequency, it needs to be made equal else the predictions will be biased towards the higher frequency label."
      ]
    },
    {
      "cell_type": "code",
      "metadata": {
        "id": "eNnraz-O9pax",
        "colab_type": "code",
        "colab": {}
      },
      "source": [
        "raw_df_major = raw_df[raw_df['SEVERITYCODE']==1]\n",
        "raw_df_minor = raw_df[raw_df['SEVERITYCODE']==2]"
      ],
      "execution_count": null,
      "outputs": []
    },
    {
      "cell_type": "code",
      "metadata": {
        "id": "rfrgi8X_0nWO",
        "colab_type": "code",
        "colab": {
          "base_uri": "https://localhost:8080/",
          "height": 50
        },
        "outputId": "cdd1bff3-475d-4e7c-a11a-76d5fa6683e6"
      },
      "source": [
        "raw_df_major = raw_df_major.sample(n=4258,random_state=7)\n",
        "raw_df_major['SEVERITYCODE'].value_counts()"
      ],
      "execution_count": null,
      "outputs": [
        {
          "output_type": "execute_result",
          "data": {
            "text/plain": [
              "1    4258\n",
              "Name: SEVERITYCODE, dtype: int64"
            ]
          },
          "metadata": {
            "tags": []
          },
          "execution_count": 10
        }
      ]
    },
    {
      "cell_type": "code",
      "metadata": {
        "id": "fV1TkxyM02sv",
        "colab_type": "code",
        "colab": {
          "base_uri": "https://localhost:8080/",
          "height": 67
        },
        "outputId": "069a1768-0afd-4f28-fcab-803cf9cea078"
      },
      "source": [
        "equal_df = pd.concat([raw_df_major,raw_df_minor])\n",
        "equal_df['SEVERITYCODE'].value_counts()"
      ],
      "execution_count": null,
      "outputs": [
        {
          "output_type": "execute_result",
          "data": {
            "text/plain": [
              "2    4258\n",
              "1    4258\n",
              "Name: SEVERITYCODE, dtype: int64"
            ]
          },
          "metadata": {
            "tags": []
          },
          "execution_count": 12
        }
      ]
    },
    {
      "cell_type": "markdown",
      "metadata": {
        "id": "_uX3SOifG5Dc",
        "colab_type": "text"
      },
      "source": [
        "We'll now change the type of date column to \"Datetime\" format for more usability."
      ]
    },
    {
      "cell_type": "code",
      "metadata": {
        "id": "7NaW5YGs1QsD",
        "colab_type": "code",
        "colab": {
          "base_uri": "https://localhost:8080/",
          "height": 652
        },
        "outputId": "82ca4e07-ae0c-43c8-ae43-2362f1490670"
      },
      "source": [
        "pd.to_datetime(equal_df.INCDTTM)\n",
        "equal_df.head()"
      ],
      "execution_count": null,
      "outputs": [
        {
          "output_type": "execute_result",
          "data": {
            "text/html": [
              "<div>\n",
              "<style scoped>\n",
              "    .dataframe tbody tr th:only-of-type {\n",
              "        vertical-align: middle;\n",
              "    }\n",
              "\n",
              "    .dataframe tbody tr th {\n",
              "        vertical-align: top;\n",
              "    }\n",
              "\n",
              "    .dataframe thead th {\n",
              "        text-align: right;\n",
              "    }\n",
              "</style>\n",
              "<table border=\"1\" class=\"dataframe\">\n",
              "  <thead>\n",
              "    <tr style=\"text-align: right;\">\n",
              "      <th></th>\n",
              "      <th>SEVERITYCODE</th>\n",
              "      <th>X</th>\n",
              "      <th>Y</th>\n",
              "      <th>OBJECTID</th>\n",
              "      <th>INCKEY</th>\n",
              "      <th>COLDETKEY</th>\n",
              "      <th>REPORTNO</th>\n",
              "      <th>STATUS</th>\n",
              "      <th>ADDRTYPE</th>\n",
              "      <th>INTKEY</th>\n",
              "      <th>LOCATION</th>\n",
              "      <th>EXCEPTRSNCODE</th>\n",
              "      <th>EXCEPTRSNDESC</th>\n",
              "      <th>SEVERITYCODE.1</th>\n",
              "      <th>SEVERITYDESC</th>\n",
              "      <th>COLLISIONTYPE</th>\n",
              "      <th>PERSONCOUNT</th>\n",
              "      <th>PEDCOUNT</th>\n",
              "      <th>PEDCYLCOUNT</th>\n",
              "      <th>VEHCOUNT</th>\n",
              "      <th>INCDATE</th>\n",
              "      <th>INCDTTM</th>\n",
              "      <th>JUNCTIONTYPE</th>\n",
              "      <th>SDOT_COLCODE</th>\n",
              "      <th>SDOT_COLDESC</th>\n",
              "      <th>INATTENTIONIND</th>\n",
              "      <th>UNDERINFL</th>\n",
              "      <th>WEATHER</th>\n",
              "      <th>ROADCOND</th>\n",
              "      <th>LIGHTCOND</th>\n",
              "      <th>PEDROWNOTGRNT</th>\n",
              "      <th>SDOTCOLNUM</th>\n",
              "      <th>SPEEDING</th>\n",
              "      <th>ST_COLCODE</th>\n",
              "      <th>ST_COLDESC</th>\n",
              "      <th>SEGLANEKEY</th>\n",
              "      <th>CROSSWALKKEY</th>\n",
              "      <th>HITPARKEDCAR</th>\n",
              "    </tr>\n",
              "  </thead>\n",
              "  <tbody>\n",
              "    <tr>\n",
              "      <th>13089</th>\n",
              "      <td>1</td>\n",
              "      <td>-122.332812</td>\n",
              "      <td>47.605142</td>\n",
              "      <td>16575</td>\n",
              "      <td>30752</td>\n",
              "      <td>30752</td>\n",
              "      <td>1482601</td>\n",
              "      <td>Matched</td>\n",
              "      <td>Block</td>\n",
              "      <td>NaN</td>\n",
              "      <td>MARION ST BETWEEN 3RD AVE AND 4TH AVE</td>\n",
              "      <td>NaN</td>\n",
              "      <td>NaN</td>\n",
              "      <td>1</td>\n",
              "      <td>Property Damage Only Collision</td>\n",
              "      <td>Sideswipe</td>\n",
              "      <td>2</td>\n",
              "      <td>0</td>\n",
              "      <td>0</td>\n",
              "      <td>2</td>\n",
              "      <td>2004/05/06 00:00:00+00</td>\n",
              "      <td>5/6/2004</td>\n",
              "      <td>Mid-Block (not related to intersection)</td>\n",
              "      <td>16.0</td>\n",
              "      <td>MOTOR VEHICLE STRUCK MOTOR VEHICLE, LEFT SIDE ...</td>\n",
              "      <td>Y</td>\n",
              "      <td>0</td>\n",
              "      <td>Clear</td>\n",
              "      <td>Dry</td>\n",
              "      <td>Daylight</td>\n",
              "      <td>NaN</td>\n",
              "      <td>4127024.0</td>\n",
              "      <td>NaN</td>\n",
              "      <td>11</td>\n",
              "      <td>From same direction - both going straight - bo...</td>\n",
              "      <td>0.0</td>\n",
              "      <td>0.0</td>\n",
              "      <td>N</td>\n",
              "    </tr>\n",
              "    <tr>\n",
              "      <th>8945</th>\n",
              "      <td>1</td>\n",
              "      <td>-122.301170</td>\n",
              "      <td>47.551000</td>\n",
              "      <td>11197</td>\n",
              "      <td>24877</td>\n",
              "      <td>24877</td>\n",
              "      <td>1779329</td>\n",
              "      <td>Matched</td>\n",
              "      <td>Block</td>\n",
              "      <td>NaN</td>\n",
              "      <td>S ORCAS ST BETWEEN BEACON ER AVE S AND 25TH AVE S</td>\n",
              "      <td>NaN</td>\n",
              "      <td>NaN</td>\n",
              "      <td>1</td>\n",
              "      <td>Property Damage Only Collision</td>\n",
              "      <td>Other</td>\n",
              "      <td>2</td>\n",
              "      <td>0</td>\n",
              "      <td>0</td>\n",
              "      <td>1</td>\n",
              "      <td>2004/05/21 00:00:00+00</td>\n",
              "      <td>5/21/2004 9:30:00 PM</td>\n",
              "      <td>Mid-Block (but intersection related)</td>\n",
              "      <td>26.0</td>\n",
              "      <td>MOTOR VEHICLE STRUCK OBJECT IN ROAD</td>\n",
              "      <td>NaN</td>\n",
              "      <td>0</td>\n",
              "      <td>Clear</td>\n",
              "      <td>Dry</td>\n",
              "      <td>Dark - Street Lights On</td>\n",
              "      <td>NaN</td>\n",
              "      <td>4142001.0</td>\n",
              "      <td>NaN</td>\n",
              "      <td>50</td>\n",
              "      <td>Fixed object</td>\n",
              "      <td>0.0</td>\n",
              "      <td>0.0</td>\n",
              "      <td>N</td>\n",
              "    </tr>\n",
              "    <tr>\n",
              "      <th>9582</th>\n",
              "      <td>1</td>\n",
              "      <td>-122.346267</td>\n",
              "      <td>47.643021</td>\n",
              "      <td>12039</td>\n",
              "      <td>26582</td>\n",
              "      <td>26582</td>\n",
              "      <td>1783659</td>\n",
              "      <td>Matched</td>\n",
              "      <td>Block</td>\n",
              "      <td>NaN</td>\n",
              "      <td>6TH AVE N BETWEEN HALLADAY ST AND RAYE LOWER ST</td>\n",
              "      <td>NaN</td>\n",
              "      <td>NaN</td>\n",
              "      <td>1</td>\n",
              "      <td>Property Damage Only Collision</td>\n",
              "      <td>Rear Ended</td>\n",
              "      <td>2</td>\n",
              "      <td>0</td>\n",
              "      <td>0</td>\n",
              "      <td>2</td>\n",
              "      <td>2004/11/17 00:00:00+00</td>\n",
              "      <td>11/17/2004 6:10:00 PM</td>\n",
              "      <td>Mid-Block (not related to intersection)</td>\n",
              "      <td>14.0</td>\n",
              "      <td>MOTOR VEHICLE STRUCK MOTOR VEHICLE, REAR END</td>\n",
              "      <td>NaN</td>\n",
              "      <td>0</td>\n",
              "      <td>Clear</td>\n",
              "      <td>Dry</td>\n",
              "      <td>Dark - Street Lights On</td>\n",
              "      <td>NaN</td>\n",
              "      <td>4322015.0</td>\n",
              "      <td>NaN</td>\n",
              "      <td>14</td>\n",
              "      <td>From same direction - both going straight - on...</td>\n",
              "      <td>0.0</td>\n",
              "      <td>0.0</td>\n",
              "      <td>N</td>\n",
              "    </tr>\n",
              "    <tr>\n",
              "      <th>9652</th>\n",
              "      <td>1</td>\n",
              "      <td>-122.301179</td>\n",
              "      <td>47.618286</td>\n",
              "      <td>12132</td>\n",
              "      <td>25839</td>\n",
              "      <td>25839</td>\n",
              "      <td>1198376</td>\n",
              "      <td>Matched</td>\n",
              "      <td>Block</td>\n",
              "      <td>NaN</td>\n",
              "      <td>24TH AVE BETWEEN E HOWELL ST AND E DENNY WAY</td>\n",
              "      <td>NaN</td>\n",
              "      <td>NaN</td>\n",
              "      <td>1</td>\n",
              "      <td>Property Damage Only Collision</td>\n",
              "      <td>Parked Car</td>\n",
              "      <td>2</td>\n",
              "      <td>0</td>\n",
              "      <td>0</td>\n",
              "      <td>2</td>\n",
              "      <td>2004/11/07 00:00:00+00</td>\n",
              "      <td>11/7/2004</td>\n",
              "      <td>Mid-Block (not related to intersection)</td>\n",
              "      <td>15.0</td>\n",
              "      <td>MOTOR VEHICLE STRUCK MOTOR VEHICLE, RIGHT SIDE...</td>\n",
              "      <td>NaN</td>\n",
              "      <td>0</td>\n",
              "      <td>Unknown</td>\n",
              "      <td>Unknown</td>\n",
              "      <td>Unknown</td>\n",
              "      <td>NaN</td>\n",
              "      <td>4312004.0</td>\n",
              "      <td>NaN</td>\n",
              "      <td>32</td>\n",
              "      <td>One parked--one moving</td>\n",
              "      <td>0.0</td>\n",
              "      <td>0.0</td>\n",
              "      <td>N</td>\n",
              "    </tr>\n",
              "    <tr>\n",
              "      <th>314</th>\n",
              "      <td>1</td>\n",
              "      <td>-122.313130</td>\n",
              "      <td>47.661269</td>\n",
              "      <td>354</td>\n",
              "      <td>320864</td>\n",
              "      <td>322364</td>\n",
              "      <td>E937614</td>\n",
              "      <td>Matched</td>\n",
              "      <td>Intersection</td>\n",
              "      <td>27062.0</td>\n",
              "      <td>UNIVERSITY WAY NE AND NE 45TH ST</td>\n",
              "      <td></td>\n",
              "      <td>NaN</td>\n",
              "      <td>1</td>\n",
              "      <td>Property Damage Only Collision</td>\n",
              "      <td>Angles</td>\n",
              "      <td>2</td>\n",
              "      <td>0</td>\n",
              "      <td>0</td>\n",
              "      <td>2</td>\n",
              "      <td>2019/07/07 00:00:00+00</td>\n",
              "      <td>7/7/2019 8:16:00 PM</td>\n",
              "      <td>At Intersection (intersection related)</td>\n",
              "      <td>11.0</td>\n",
              "      <td>MOTOR VEHICLE STRUCK MOTOR VEHICLE, FRONT END ...</td>\n",
              "      <td>NaN</td>\n",
              "      <td>N</td>\n",
              "      <td>Raining</td>\n",
              "      <td>Wet</td>\n",
              "      <td>Daylight</td>\n",
              "      <td>NaN</td>\n",
              "      <td>NaN</td>\n",
              "      <td>NaN</td>\n",
              "      <td>10</td>\n",
              "      <td>Entering at angle</td>\n",
              "      <td>0.0</td>\n",
              "      <td>0.0</td>\n",
              "      <td>N</td>\n",
              "    </tr>\n",
              "  </tbody>\n",
              "</table>\n",
              "</div>"
            ],
            "text/plain": [
              "       SEVERITYCODE           X  ...  CROSSWALKKEY  HITPARKEDCAR\n",
              "13089             1 -122.332812  ...           0.0             N\n",
              "8945              1 -122.301170  ...           0.0             N\n",
              "9582              1 -122.346267  ...           0.0             N\n",
              "9652              1 -122.301179  ...           0.0             N\n",
              "314               1 -122.313130  ...           0.0             N\n",
              "\n",
              "[5 rows x 38 columns]"
            ]
          },
          "metadata": {
            "tags": []
          },
          "execution_count": 29
        }
      ]
    },
    {
      "cell_type": "markdown",
      "metadata": {
        "id": "a2d65qsGLqOc",
        "colab_type": "text"
      },
      "source": [
        "### Visualizing data to gain insights"
      ]
    },
    {
      "cell_type": "markdown",
      "metadata": {
        "id": "7XTJU42_GRYj",
        "colab_type": "text"
      },
      "source": [
        "We will now visualize the relation between weather condition and number of severe and non-severe accidents."
      ]
    },
    {
      "cell_type": "code",
      "metadata": {
        "id": "LMwbGYle4PSM",
        "colab_type": "code",
        "colab": {
          "base_uri": "https://localhost:8080/",
          "height": 530
        },
        "outputId": "9452e399-4ae4-4bb4-eb0d-6ccfaaaf5ebd"
      },
      "source": [
        "ax = plt.subplots(3,1,figsize=(20,10))\n",
        "plt.subplots_adjust(wspace=1)\n",
        "plt.subplot(1,3,1)\n",
        "equal_df.groupby(['WEATHER','SEVERITYCODE']).size().plot.barh()\n",
        "plt.subplot(1,3,2)\n",
        "equal_df.groupby(['ROADCOND','SEVERITYCODE']).size().plot.barh()\n",
        "plt.subplot(1,3,3)\n",
        "equal_df.groupby(['LIGHTCOND','SEVERITYCODE']).size().plot.barh()"
      ],
      "execution_count": null,
      "outputs": [
        {
          "output_type": "execute_result",
          "data": {
            "text/plain": [
              "<matplotlib.axes._subplots.AxesSubplot at 0x7f4e1d6b7908>"
            ]
          },
          "metadata": {
            "tags": []
          },
          "execution_count": 80
        },
        {
          "output_type": "display_data",
          "data": {
            "image/png": "[encoded data removed]",
            "text/plain": [
              "<Figure size 1440x720 with 3 Axes>"
            ]
          },
          "metadata": {
            "tags": [],
            "needs_background": "light"
          }
        }
      ]
    },
    {
      "cell_type": "markdown",
      "metadata": {
        "id": "5ZG2L8fQFdp9",
        "colab_type": "text"
      },
      "source": [
        "Clear weather has the most number of accident, but that's because of the frequency of weather being clear higher. Next comes rainy and overcast which also follows the same frequency pattern. Though Weather Condition being an import feature, this data alone can't be conclusive. We need a relation in frequency of weather conditions to predict accident prone weather."
      ]
    },
    {
      "cell_type": "markdown",
      "metadata": {
        "id": "iE6pDbIrKMii",
        "colab_type": "text"
      },
      "source": [
        "We can observe the same problem with the second plot. Dry and Wet road conditions have the highest accidents but it's because of the high frequency of both the conditions."
      ]
    },
    {
      "cell_type": "code",
      "metadata": {
        "id": "ViUtE1i_OjqZ",
        "colab_type": "code",
        "colab": {
          "base_uri": "https://localhost:8080/",
          "height": 218
        },
        "outputId": "bcabe5ca-eb88-4fe3-e7f3-168d9bda13fd"
      },
      "source": [
        "equal_df['Datetime'] = pd.to_datetime(equal_df['INCDTTM'])\n",
        "equal_df.Datetime"
      ],
      "execution_count": null,
      "outputs": [
        {
          "output_type": "execute_result",
          "data": {
            "text/plain": [
              "13089   2004-05-06 00:00:00\n",
              "8945    2004-05-21 21:30:00\n",
              "9582    2004-11-17 18:10:00\n",
              "9652    2004-11-07 00:00:00\n",
              "314     2019-07-07 20:16:00\n",
              "                ...        \n",
              "13827   2004-07-30 19:18:00\n",
              "13838   2004-01-08 00:00:00\n",
              "13839   2004-06-09 00:00:00\n",
              "13842   2004-09-02 00:00:00\n",
              "13844   2004-04-17 16:35:00\n",
              "Name: Datetime, Length: 8516, dtype: datetime64[ns]"
            ]
          },
          "metadata": {
            "tags": []
          },
          "execution_count": 89
        }
      ]
    },
    {
      "cell_type": "code",
      "metadata": {
        "id": "dRHdPMEw2CR8",
        "colab_type": "code",
        "colab": {
          "base_uri": "https://localhost:8080/",
          "height": 416
        },
        "outputId": "6cca2cb4-2aa7-4c2c-fb37-fa27985eac2c"
      },
      "source": [
        "plt.hist(equal_df['Datetime'].dt.hour,bins=24)"
      ],
      "execution_count": 109,
      "outputs": [
        {
          "output_type": "execute_result",
          "data": {
            "text/plain": [
              "(array([2428.,  134.,  150.,   78.,   56.,   68.,  100.,  243.,  304.,\n",
              "         295.,  272.,  276.,  386.,  380.,  392.,  452.,  495.,  528.,\n",
              "         402.,  264.,  227.,  230.,  197.,  159.]),\n",
              " array([ 0.        ,  0.95833333,  1.91666667,  2.875     ,  3.83333333,\n",
              "         4.79166667,  5.75      ,  6.70833333,  7.66666667,  8.625     ,\n",
              "         9.58333333, 10.54166667, 11.5       , 12.45833333, 13.41666667,\n",
              "        14.375     , 15.33333333, 16.29166667, 17.25      , 18.20833333,\n",
              "        19.16666667, 20.125     , 21.08333333, 22.04166667, 23.        ]),\n",
              " <a list of 24 Patch objects>)"
            ]
          },
          "metadata": {
            "tags": []
          },
          "execution_count": 109
        },
        {
          "output_type": "display_data",
          "data": {
            "image/png": "[encoded data removed]",
            "text/plain": [
              "<Figure size 432x288 with 1 Axes>"
            ]
          },
          "metadata": {
            "tags": [],
            "needs_background": "light"
          }
        }
      ]
    },
    {
      "cell_type": "markdown",
      "metadata": {
        "id": "I-w7iQViSKYK",
        "colab_type": "text"
      },
      "source": [
        "Here, we see an interesting insight. We may think : \"The highest number of accidents have occured between 00:00 am to 2:30 am. This is significant because even though the number of moving vehicles is way higher during the day,the number of accidents is more at late night. This may be due to various reasons like low light, low vision, carelessness, speeding, fatigue in driver, etc.\" But this is merely a problem with the data, as the entries with time not mentioned, automatically get labelled as 00:00:00.\n",
        "\n",
        "So, the actual high accidents occur during 3:00 pm to 8:00 pm."
      ]
    },
    {
      "cell_type": "code",
      "metadata": {
        "id": "4Io9r4wnuATn",
        "colab_type": "code",
        "colab": {
          "base_uri": "https://localhost:8080/",
          "height": 689
        },
        "outputId": "91335ae3-daf4-4835-8970-73f31e31a127"
      },
      "source": [
        "equal_df[\"ROADCOND\"] = equal_df[\"ROADCOND\"].astype('category')\n",
        "equal_df[\"LIGHTCOND\"] = equal_df[\"LIGHTCOND\"].astype('category')\n",
        "equal_df[\"WEATHER\"] = equal_df[\"WEATHER\"].astype('category')\n",
        "\n",
        "equal_df.dtypes"
      ],
      "execution_count": 111,
      "outputs": [
        {
          "output_type": "execute_result",
          "data": {
            "text/plain": [
              "SEVERITYCODE               int64\n",
              "X                        float64\n",
              "Y                        float64\n",
              "OBJECTID                   int64\n",
              "INCKEY                     int64\n",
              "COLDETKEY                  int64\n",
              "REPORTNO                  object\n",
              "STATUS                    object\n",
              "ADDRTYPE                  object\n",
              "INTKEY                   float64\n",
              "LOCATION                  object\n",
              "EXCEPTRSNCODE             object\n",
              "EXCEPTRSNDESC             object\n",
              "SEVERITYCODE.1             int64\n",
              "SEVERITYDESC              object\n",
              "COLLISIONTYPE             object\n",
              "PERSONCOUNT                int64\n",
              "PEDCOUNT                   int64\n",
              "PEDCYLCOUNT                int64\n",
              "VEHCOUNT                   int64\n",
              "INCDATE                   object\n",
              "INCDTTM                   object\n",
              "JUNCTIONTYPE              object\n",
              "SDOT_COLCODE             float64\n",
              "SDOT_COLDESC              object\n",
              "INATTENTIONIND            object\n",
              "UNDERINFL                 object\n",
              "WEATHER                 category\n",
              "ROADCOND                category\n",
              "LIGHTCOND               category\n",
              "PEDROWNOTGRNT             object\n",
              "SDOTCOLNUM               float64\n",
              "SPEEDING                  object\n",
              "ST_COLCODE                object\n",
              "ST_COLDESC                object\n",
              "SEGLANEKEY               float64\n",
              "CROSSWALKKEY             float64\n",
              "HITPARKEDCAR              object\n",
              "Datetime          datetime64[ns]\n",
              "dtype: object"
            ]
          },
          "metadata": {
            "tags": []
          },
          "execution_count": 111
        }
      ]
    },
    {
      "cell_type": "code",
      "metadata": {
        "id": "Oaj6R-07vEiF",
        "colab_type": "code",
        "colab": {
          "base_uri": "https://localhost:8080/",
          "height": 1000
        },
        "outputId": "d31cf3da-aded-494f-b7d1-e108ae159d37"
      },
      "source": [
        "equal_df[\"ROADCOND_cat\"] = equal_df[\"ROADCOND\"].cat.codes\n",
        "equal_df[\"LIGHTCOND_cat\"] = equal_df[\"LIGHTCOND\"].cat.codes\n",
        "equal_df[\"WEATHER_cat\"] = equal_df[\"WEATHER\"].cat.codes\n",
        "equal_df"
      ],
      "execution_count": 113,
      "outputs": [
        {
          "output_type": "execute_result",
          "data": {
            "text/html": [
              "<div>\n",
              "<style scoped>\n",
              "    .dataframe tbody tr th:only-of-type {\n",
              "        vertical-align: middle;\n",
              "    }\n",
              "\n",
              "    .dataframe tbody tr th {\n",
              "        vertical-align: top;\n",
              "    }\n",
              "\n",
              "    .dataframe thead th {\n",
              "        text-align: right;\n",
              "    }\n",
              "</style>\n",
              "<table border=\"1\" class=\"dataframe\">\n",
              "  <thead>\n",
              "    <tr style=\"text-align: right;\">\n",
              "      <th></th>\n",
              "      <th>SEVERITYCODE</th>\n",
              "      <th>X</th>\n",
              "      <th>Y</th>\n",
              "      <th>OBJECTID</th>\n",
              "      <th>INCKEY</th>\n",
              "      <th>COLDETKEY</th>\n",
              "      <th>REPORTNO</th>\n",
              "      <th>STATUS</th>\n",
              "      <th>ADDRTYPE</th>\n",
              "      <th>INTKEY</th>\n",
              "      <th>LOCATION</th>\n",
              "      <th>EXCEPTRSNCODE</th>\n",
              "      <th>EXCEPTRSNDESC</th>\n",
              "      <th>SEVERITYCODE.1</th>\n",
              "      <th>SEVERITYDESC</th>\n",
              "      <th>COLLISIONTYPE</th>\n",
              "      <th>PERSONCOUNT</th>\n",
              "      <th>PEDCOUNT</th>\n",
              "      <th>PEDCYLCOUNT</th>\n",
              "      <th>VEHCOUNT</th>\n",
              "      <th>INCDATE</th>\n",
              "      <th>INCDTTM</th>\n",
              "      <th>JUNCTIONTYPE</th>\n",
              "      <th>SDOT_COLCODE</th>\n",
              "      <th>SDOT_COLDESC</th>\n",
              "      <th>INATTENTIONIND</th>\n",
              "      <th>UNDERINFL</th>\n",
              "      <th>WEATHER</th>\n",
              "      <th>ROADCOND</th>\n",
              "      <th>LIGHTCOND</th>\n",
              "      <th>PEDROWNOTGRNT</th>\n",
              "      <th>SDOTCOLNUM</th>\n",
              "      <th>SPEEDING</th>\n",
              "      <th>ST_COLCODE</th>\n",
              "      <th>ST_COLDESC</th>\n",
              "      <th>SEGLANEKEY</th>\n",
              "      <th>CROSSWALKKEY</th>\n",
              "      <th>HITPARKEDCAR</th>\n",
              "      <th>Datetime</th>\n",
              "      <th>ROADCOND_cat</th>\n",
              "      <th>LIGHTCOND_cat</th>\n",
              "      <th>WEATHER_cat</th>\n",
              "    </tr>\n",
              "  </thead>\n",
              "  <tbody>\n",
              "    <tr>\n",
              "      <th>13089</th>\n",
              "      <td>1</td>\n",
              "      <td>-122.332812</td>\n",
              "      <td>47.605142</td>\n",
              "      <td>16575</td>\n",
              "      <td>30752</td>\n",
              "      <td>30752</td>\n",
              "      <td>1482601</td>\n",
              "      <td>Matched</td>\n",
              "      <td>Block</td>\n",
              "      <td>NaN</td>\n",
              "      <td>MARION ST BETWEEN 3RD AVE AND 4TH AVE</td>\n",
              "      <td>NaN</td>\n",
              "      <td>NaN</td>\n",
              "      <td>1</td>\n",
              "      <td>Property Damage Only Collision</td>\n",
              "      <td>Sideswipe</td>\n",
              "      <td>2</td>\n",
              "      <td>0</td>\n",
              "      <td>0</td>\n",
              "      <td>2</td>\n",
              "      <td>2004/05/06 00:00:00+00</td>\n",
              "      <td>5/6/2004</td>\n",
              "      <td>Mid-Block (not related to intersection)</td>\n",
              "      <td>16.0</td>\n",
              "      <td>MOTOR VEHICLE STRUCK MOTOR VEHICLE, LEFT SIDE ...</td>\n",
              "      <td>Y</td>\n",
              "      <td>0</td>\n",
              "      <td>Clear</td>\n",
              "      <td>Dry</td>\n",
              "      <td>Daylight</td>\n",
              "      <td>NaN</td>\n",
              "      <td>4127024.0</td>\n",
              "      <td>NaN</td>\n",
              "      <td>11</td>\n",
              "      <td>From same direction - both going straight - bo...</td>\n",
              "      <td>0.0</td>\n",
              "      <td>0.0</td>\n",
              "      <td>N</td>\n",
              "      <td>2004-05-06 00:00:00</td>\n",
              "      <td>0</td>\n",
              "      <td>4</td>\n",
              "      <td>1</td>\n",
              "    </tr>\n",
              "    <tr>\n",
              "      <th>8945</th>\n",
              "      <td>1</td>\n",
              "      <td>-122.301170</td>\n",
              "      <td>47.551000</td>\n",
              "      <td>11197</td>\n",
              "      <td>24877</td>\n",
              "      <td>24877</td>\n",
              "      <td>1779329</td>\n",
              "      <td>Matched</td>\n",
              "      <td>Block</td>\n",
              "      <td>NaN</td>\n",
              "      <td>S ORCAS ST BETWEEN BEACON ER AVE S AND 25TH AVE S</td>\n",
              "      <td>NaN</td>\n",
              "      <td>NaN</td>\n",
              "      <td>1</td>\n",
              "      <td>Property Damage Only Collision</td>\n",
              "      <td>Other</td>\n",
              "      <td>2</td>\n",
              "      <td>0</td>\n",
              "      <td>0</td>\n",
              "      <td>1</td>\n",
              "      <td>2004/05/21 00:00:00+00</td>\n",
              "      <td>5/21/2004 9:30:00 PM</td>\n",
              "      <td>Mid-Block (but intersection related)</td>\n",
              "      <td>26.0</td>\n",
              "      <td>MOTOR VEHICLE STRUCK OBJECT IN ROAD</td>\n",
              "      <td>NaN</td>\n",
              "      <td>0</td>\n",
              "      <td>Clear</td>\n",
              "      <td>Dry</td>\n",
              "      <td>Dark - Street Lights On</td>\n",
              "      <td>NaN</td>\n",
              "      <td>4142001.0</td>\n",
              "      <td>NaN</td>\n",
              "      <td>50</td>\n",
              "      <td>Fixed object</td>\n",
              "      <td>0.0</td>\n",
              "      <td>0.0</td>\n",
              "      <td>N</td>\n",
              "      <td>2004-05-21 21:30:00</td>\n",
              "      <td>0</td>\n",
              "      <td>2</td>\n",
              "      <td>1</td>\n",
              "    </tr>\n",
              "    <tr>\n",
              "      <th>9582</th>\n",
              "      <td>1</td>\n",
              "      <td>-122.346267</td>\n",
              "      <td>47.643021</td>\n",
              "      <td>12039</td>\n",
              "      <td>26582</td>\n",
              "      <td>26582</td>\n",
              "      <td>1783659</td>\n",
              "      <td>Matched</td>\n",
              "      <td>Block</td>\n",
              "      <td>NaN</td>\n",
              "      <td>6TH AVE N BETWEEN HALLADAY ST AND RAYE LOWER ST</td>\n",
              "      <td>NaN</td>\n",
              "      <td>NaN</td>\n",
              "      <td>1</td>\n",
              "      <td>Property Damage Only Collision</td>\n",
              "      <td>Rear Ended</td>\n",
              "      <td>2</td>\n",
              "      <td>0</td>\n",
              "      <td>0</td>\n",
              "      <td>2</td>\n",
              "      <td>2004/11/17 00:00:00+00</td>\n",
              "      <td>11/17/2004 6:10:00 PM</td>\n",
              "      <td>Mid-Block (not related to intersection)</td>\n",
              "      <td>14.0</td>\n",
              "      <td>MOTOR VEHICLE STRUCK MOTOR VEHICLE, REAR END</td>\n",
              "      <td>NaN</td>\n",
              "      <td>0</td>\n",
              "      <td>Clear</td>\n",
              "      <td>Dry</td>\n",
              "      <td>Dark - Street Lights On</td>\n",
              "      <td>NaN</td>\n",
              "      <td>4322015.0</td>\n",
              "      <td>NaN</td>\n",
              "      <td>14</td>\n",
              "      <td>From same direction - both going straight - on...</td>\n",
              "      <td>0.0</td>\n",
              "      <td>0.0</td>\n",
              "      <td>N</td>\n",
              "      <td>2004-11-17 18:10:00</td>\n",
              "      <td>0</td>\n",
              "      <td>2</td>\n",
              "      <td>1</td>\n",
              "    </tr>\n",
              "    <tr>\n",
              "      <th>9652</th>\n",
              "      <td>1</td>\n",
              "      <td>-122.301179</td>\n",
              "      <td>47.618286</td>\n",
              "      <td>12132</td>\n",
              "      <td>25839</td>\n",
              "      <td>25839</td>\n",
              "      <td>1198376</td>\n",
              "      <td>Matched</td>\n",
              "      <td>Block</td>\n",
              "      <td>NaN</td>\n",
              "      <td>24TH AVE BETWEEN E HOWELL ST AND E DENNY WAY</td>\n",
              "      <td>NaN</td>\n",
              "      <td>NaN</td>\n",
              "      <td>1</td>\n",
              "      <td>Property Damage Only Collision</td>\n",
              "      <td>Parked Car</td>\n",
              "      <td>2</td>\n",
              "      <td>0</td>\n",
              "      <td>0</td>\n",
              "      <td>2</td>\n",
              "      <td>2004/11/07 00:00:00+00</td>\n",
              "      <td>11/7/2004</td>\n",
              "      <td>Mid-Block (not related to intersection)</td>\n",
              "      <td>15.0</td>\n",
              "      <td>MOTOR VEHICLE STRUCK MOTOR VEHICLE, RIGHT SIDE...</td>\n",
              "      <td>NaN</td>\n",
              "      <td>0</td>\n",
              "      <td>Unknown</td>\n",
              "      <td>Unknown</td>\n",
              "      <td>Unknown</td>\n",
              "      <td>NaN</td>\n",
              "      <td>4312004.0</td>\n",
              "      <td>NaN</td>\n",
              "      <td>32</td>\n",
              "      <td>One parked--one moving</td>\n",
              "      <td>0.0</td>\n",
              "      <td>0.0</td>\n",
              "      <td>N</td>\n",
              "      <td>2004-11-07 00:00:00</td>\n",
              "      <td>7</td>\n",
              "      <td>7</td>\n",
              "      <td>9</td>\n",
              "    </tr>\n",
              "    <tr>\n",
              "      <th>314</th>\n",
              "      <td>1</td>\n",
              "      <td>-122.313130</td>\n",
              "      <td>47.661269</td>\n",
              "      <td>354</td>\n",
              "      <td>320864</td>\n",
              "      <td>322364</td>\n",
              "      <td>E937614</td>\n",
              "      <td>Matched</td>\n",
              "      <td>Intersection</td>\n",
              "      <td>27062.0</td>\n",
              "      <td>UNIVERSITY WAY NE AND NE 45TH ST</td>\n",
              "      <td></td>\n",
              "      <td>NaN</td>\n",
              "      <td>1</td>\n",
              "      <td>Property Damage Only Collision</td>\n",
              "      <td>Angles</td>\n",
              "      <td>2</td>\n",
              "      <td>0</td>\n",
              "      <td>0</td>\n",
              "      <td>2</td>\n",
              "      <td>2019/07/07 00:00:00+00</td>\n",
              "      <td>7/7/2019 8:16:00 PM</td>\n",
              "      <td>At Intersection (intersection related)</td>\n",
              "      <td>11.0</td>\n",
              "      <td>MOTOR VEHICLE STRUCK MOTOR VEHICLE, FRONT END ...</td>\n",
              "      <td>NaN</td>\n",
              "      <td>N</td>\n",
              "      <td>Raining</td>\n",
              "      <td>Wet</td>\n",
              "      <td>Daylight</td>\n",
              "      <td>NaN</td>\n",
              "      <td>NaN</td>\n",
              "      <td>NaN</td>\n",
              "      <td>10</td>\n",
              "      <td>Entering at angle</td>\n",
              "      <td>0.0</td>\n",
              "      <td>0.0</td>\n",
              "      <td>N</td>\n",
              "      <td>2019-07-07 20:16:00</td>\n",
              "      <td>8</td>\n",
              "      <td>4</td>\n",
              "      <td>5</td>\n",
              "    </tr>\n",
              "    <tr>\n",
              "      <th>...</th>\n",
              "      <td>...</td>\n",
              "      <td>...</td>\n",
              "      <td>...</td>\n",
              "      <td>...</td>\n",
              "      <td>...</td>\n",
              "      <td>...</td>\n",
              "      <td>...</td>\n",
              "      <td>...</td>\n",
              "      <td>...</td>\n",
              "      <td>...</td>\n",
              "      <td>...</td>\n",
              "      <td>...</td>\n",
              "      <td>...</td>\n",
              "      <td>...</td>\n",
              "      <td>...</td>\n",
              "      <td>...</td>\n",
              "      <td>...</td>\n",
              "      <td>...</td>\n",
              "      <td>...</td>\n",
              "      <td>...</td>\n",
              "      <td>...</td>\n",
              "      <td>...</td>\n",
              "      <td>...</td>\n",
              "      <td>...</td>\n",
              "      <td>...</td>\n",
              "      <td>...</td>\n",
              "      <td>...</td>\n",
              "      <td>...</td>\n",
              "      <td>...</td>\n",
              "      <td>...</td>\n",
              "      <td>...</td>\n",
              "      <td>...</td>\n",
              "      <td>...</td>\n",
              "      <td>...</td>\n",
              "      <td>...</td>\n",
              "      <td>...</td>\n",
              "      <td>...</td>\n",
              "      <td>...</td>\n",
              "      <td>...</td>\n",
              "      <td>...</td>\n",
              "      <td>...</td>\n",
              "      <td>...</td>\n",
              "    </tr>\n",
              "    <tr>\n",
              "      <th>13827</th>\n",
              "      <td>2</td>\n",
              "      <td>-122.313746</td>\n",
              "      <td>47.659802</td>\n",
              "      <td>17538</td>\n",
              "      <td>30632</td>\n",
              "      <td>30632</td>\n",
              "      <td>1793858</td>\n",
              "      <td>Matched</td>\n",
              "      <td>Block</td>\n",
              "      <td>NaN</td>\n",
              "      <td>NE 43RD ST BETWEEN BROOKLYN AVE NE AND UNIVERS...</td>\n",
              "      <td>NaN</td>\n",
              "      <td>NaN</td>\n",
              "      <td>2</td>\n",
              "      <td>Injury Collision</td>\n",
              "      <td>Pedestrian</td>\n",
              "      <td>3</td>\n",
              "      <td>1</td>\n",
              "      <td>0</td>\n",
              "      <td>1</td>\n",
              "      <td>2004/07/30 00:00:00+00</td>\n",
              "      <td>7/30/2004 7:18:00 PM</td>\n",
              "      <td>Mid-Block (not related to intersection)</td>\n",
              "      <td>24.0</td>\n",
              "      <td>MOTOR VEHCILE STRUCK PEDESTRIAN</td>\n",
              "      <td>NaN</td>\n",
              "      <td>0</td>\n",
              "      <td>Clear</td>\n",
              "      <td>Dry</td>\n",
              "      <td>Daylight</td>\n",
              "      <td>NaN</td>\n",
              "      <td>4212006.0</td>\n",
              "      <td>NaN</td>\n",
              "      <td>0</td>\n",
              "      <td>Vehicle going straight hits pedestrian</td>\n",
              "      <td>0.0</td>\n",
              "      <td>0.0</td>\n",
              "      <td>N</td>\n",
              "      <td>2004-07-30 19:18:00</td>\n",
              "      <td>0</td>\n",
              "      <td>4</td>\n",
              "      <td>1</td>\n",
              "    </tr>\n",
              "    <tr>\n",
              "      <th>13838</th>\n",
              "      <td>2</td>\n",
              "      <td>-122.370736</td>\n",
              "      <td>47.697328</td>\n",
              "      <td>17553</td>\n",
              "      <td>30417</td>\n",
              "      <td>30417</td>\n",
              "      <td>1773906</td>\n",
              "      <td>Matched</td>\n",
              "      <td>Block</td>\n",
              "      <td>NaN</td>\n",
              "      <td>HOLMAN RD NW BETWEEN 12TH AVE NW AND 11TH AVE NW</td>\n",
              "      <td>NaN</td>\n",
              "      <td>NaN</td>\n",
              "      <td>2</td>\n",
              "      <td>Injury Collision</td>\n",
              "      <td>Other</td>\n",
              "      <td>1</td>\n",
              "      <td>0</td>\n",
              "      <td>0</td>\n",
              "      <td>1</td>\n",
              "      <td>2004/01/08 00:00:00+00</td>\n",
              "      <td>1/8/2004</td>\n",
              "      <td>Mid-Block (not related to intersection)</td>\n",
              "      <td>28.0</td>\n",
              "      <td>MOTOR VEHICLE RAN OFF ROAD - HIT FIXED OBJECT</td>\n",
              "      <td>NaN</td>\n",
              "      <td>0</td>\n",
              "      <td>Overcast</td>\n",
              "      <td>Wet</td>\n",
              "      <td>Dark - Street Lights On</td>\n",
              "      <td>NaN</td>\n",
              "      <td>4008011.0</td>\n",
              "      <td>Y</td>\n",
              "      <td>50</td>\n",
              "      <td>Fixed object</td>\n",
              "      <td>0.0</td>\n",
              "      <td>0.0</td>\n",
              "      <td>N</td>\n",
              "      <td>2004-01-08 00:00:00</td>\n",
              "      <td>8</td>\n",
              "      <td>2</td>\n",
              "      <td>4</td>\n",
              "    </tr>\n",
              "    <tr>\n",
              "      <th>13839</th>\n",
              "      <td>2</td>\n",
              "      <td>-122.355298</td>\n",
              "      <td>47.684748</td>\n",
              "      <td>17554</td>\n",
              "      <td>29622</td>\n",
              "      <td>29622</td>\n",
              "      <td>1794326</td>\n",
              "      <td>Matched</td>\n",
              "      <td>Intersection</td>\n",
              "      <td>24304.0</td>\n",
              "      <td>GREENWOOD AVE N AND N 77TH ST</td>\n",
              "      <td>NaN</td>\n",
              "      <td>NaN</td>\n",
              "      <td>2</td>\n",
              "      <td>Injury Collision</td>\n",
              "      <td>Left Turn</td>\n",
              "      <td>2</td>\n",
              "      <td>0</td>\n",
              "      <td>0</td>\n",
              "      <td>2</td>\n",
              "      <td>2004/06/09 00:00:00+00</td>\n",
              "      <td>6/9/2004</td>\n",
              "      <td>At Intersection (intersection related)</td>\n",
              "      <td>11.0</td>\n",
              "      <td>MOTOR VEHICLE STRUCK MOTOR VEHICLE, FRONT END ...</td>\n",
              "      <td>NaN</td>\n",
              "      <td>0</td>\n",
              "      <td>Clear</td>\n",
              "      <td>Dry</td>\n",
              "      <td>Daylight</td>\n",
              "      <td>NaN</td>\n",
              "      <td>4161014.0</td>\n",
              "      <td>NaN</td>\n",
              "      <td>28</td>\n",
              "      <td>From opposite direction - one left turn - one ...</td>\n",
              "      <td>0.0</td>\n",
              "      <td>0.0</td>\n",
              "      <td>N</td>\n",
              "      <td>2004-06-09 00:00:00</td>\n",
              "      <td>0</td>\n",
              "      <td>4</td>\n",
              "      <td>1</td>\n",
              "    </tr>\n",
              "    <tr>\n",
              "      <th>13842</th>\n",
              "      <td>2</td>\n",
              "      <td>-122.305703</td>\n",
              "      <td>47.600833</td>\n",
              "      <td>17558</td>\n",
              "      <td>30824</td>\n",
              "      <td>30824</td>\n",
              "      <td>1216931</td>\n",
              "      <td>Matched</td>\n",
              "      <td>Block</td>\n",
              "      <td>NaN</td>\n",
              "      <td>S WASHINGTON ST BETWEEN 20TH AVE S AND 21ST AVE S</td>\n",
              "      <td>NaN</td>\n",
              "      <td>NaN</td>\n",
              "      <td>2</td>\n",
              "      <td>Injury Collision</td>\n",
              "      <td>Cycles</td>\n",
              "      <td>2</td>\n",
              "      <td>0</td>\n",
              "      <td>1</td>\n",
              "      <td>1</td>\n",
              "      <td>2004/09/02 00:00:00+00</td>\n",
              "      <td>9/2/2004</td>\n",
              "      <td>Driveway Junction</td>\n",
              "      <td>23.0</td>\n",
              "      <td>MOTOR VEHICLE STRUCK PEDALCYCLIST, LEFT SIDE S...</td>\n",
              "      <td>NaN</td>\n",
              "      <td>0</td>\n",
              "      <td>Clear</td>\n",
              "      <td>Dry</td>\n",
              "      <td>Daylight</td>\n",
              "      <td>NaN</td>\n",
              "      <td>4246009.0</td>\n",
              "      <td>NaN</td>\n",
              "      <td>45</td>\n",
              "      <td>Vehicle - Pedalcyclist</td>\n",
              "      <td>0.0</td>\n",
              "      <td>0.0</td>\n",
              "      <td>N</td>\n",
              "      <td>2004-09-02 00:00:00</td>\n",
              "      <td>0</td>\n",
              "      <td>4</td>\n",
              "      <td>1</td>\n",
              "    </tr>\n",
              "    <tr>\n",
              "      <th>13844</th>\n",
              "      <td>2</td>\n",
              "      <td>-122.370223</td>\n",
              "      <td>47.663657</td>\n",
              "      <td>17563</td>\n",
              "      <td>29776</td>\n",
              "      <td>29776</td>\n",
              "      <td>1782051</td>\n",
              "      <td>Matched</td>\n",
              "      <td>Intersection</td>\n",
              "      <td>25454.0</td>\n",
              "      <td>LEARY WAY NW AND NW LEARY WAY</td>\n",
              "      <td>NaN</td>\n",
              "      <td>NaN</td>\n",
              "      <td>2</td>\n",
              "      <td>Injury Collision</td>\n",
              "      <td>Left Turn</td>\n",
              "      <td>2</td>\n",
              "      <td>0</td>\n",
              "      <td>0</td>\n",
              "      <td>2</td>\n",
              "      <td>2004/04/17 00:00:00+00</td>\n",
              "      <td>4/17/2004 4:35:00 PM</td>\n",
              "      <td>At Intersection (intersection related)</td>\n",
              "      <td>11.0</td>\n",
              "      <td>MOTOR VEHICLE STRUCK MOTOR VEHICLE, FRONT END ...</td>\n",
              "      <td>NaN</td>\n",
              "      <td>0</td>\n",
              "      <td>Clear</td>\n",
              "      <td>Dry</td>\n",
              "      <td>Daylight</td>\n",
              "      <td>NaN</td>\n",
              "      <td>4108018.0</td>\n",
              "      <td>NaN</td>\n",
              "      <td>28</td>\n",
              "      <td>From opposite direction - one left turn - one ...</td>\n",
              "      <td>0.0</td>\n",
              "      <td>0.0</td>\n",
              "      <td>N</td>\n",
              "      <td>2004-04-17 16:35:00</td>\n",
              "      <td>0</td>\n",
              "      <td>4</td>\n",
              "      <td>1</td>\n",
              "    </tr>\n",
              "  </tbody>\n",
              "</table>\n",
              "<p>8516 rows × 42 columns</p>\n",
              "</div>"
            ],
            "text/plain": [
              "       SEVERITYCODE           X  ...  LIGHTCOND_cat  WEATHER_cat\n",
              "13089             1 -122.332812  ...              4            1\n",
              "8945              1 -122.301170  ...              2            1\n",
              "9582              1 -122.346267  ...              2            1\n",
              "9652              1 -122.301179  ...              7            9\n",
              "314               1 -122.313130  ...              4            5\n",
              "...             ...         ...  ...            ...          ...\n",
              "13827             2 -122.313746  ...              4            1\n",
              "13838             2 -122.370736  ...              2            4\n",
              "13839             2 -122.355298  ...              4            1\n",
              "13842             2 -122.305703  ...              4            1\n",
              "13844             2 -122.370223  ...              4            1\n",
              "\n",
              "[8516 rows x 42 columns]"
            ]
          },
          "metadata": {
            "tags": []
          },
          "execution_count": 113
        }
      ]
    },
    {
      "cell_type": "code",
      "metadata": {
        "id": "V1v7dij1wVNy",
        "colab_type": "code",
        "colab": {
          "base_uri": "https://localhost:8080/",
          "height": 101
        },
        "outputId": "022c2143-eca4-401b-a31b-a7215d16f2bc"
      },
      "source": [
        "X = np.asarray(equal_df[['ROADCOND_cat','LIGHTCOND_cat','WEATHER_cat']])\n",
        "X[0:5]"
      ],
      "execution_count": 115,
      "outputs": [
        {
          "output_type": "execute_result",
          "data": {
            "text/plain": [
              "array([[0, 4, 1],\n",
              "       [0, 2, 1],\n",
              "       [0, 2, 1],\n",
              "       [7, 7, 9],\n",
              "       [8, 4, 5]], dtype=int8)"
            ]
          },
          "metadata": {
            "tags": []
          },
          "execution_count": 115
        }
      ]
    },
    {
      "cell_type": "code",
      "metadata": {
        "id": "JALgrdg9v2eK",
        "colab_type": "code",
        "colab": {
          "base_uri": "https://localhost:8080/",
          "height": 101
        },
        "outputId": "f2e35572-edd6-4976-cbdd-3f72f59c8012"
      },
      "source": [
        "Y = np.asarray(equal_df[['SEVERITYCODE']])\n",
        "Y[0:5]"
      ],
      "execution_count": 117,
      "outputs": [
        {
          "output_type": "execute_result",
          "data": {
            "text/plain": [
              "array([[1],\n",
              "       [1],\n",
              "       [1],\n",
              "       [1],\n",
              "       [1]])"
            ]
          },
          "metadata": {
            "tags": []
          },
          "execution_count": 117
        }
      ]
    },
    {
      "cell_type": "code",
      "metadata": {
        "id": "yV7zIcC0wzrM",
        "colab_type": "code",
        "colab": {
          "base_uri": "https://localhost:8080/",
          "height": 101
        },
        "outputId": "a8049e3c-cf36-4cb8-a269-fbb5d958b6b3"
      },
      "source": [
        "from sklearn import preprocessing\n",
        "X = preprocessing.StandardScaler().fit(X).transform(X)\n",
        "X[0:5]"
      ],
      "execution_count": 119,
      "outputs": [
        {
          "output_type": "execute_result",
          "data": {
            "text/plain": [
              "array([[-0.65783317,  0.35905628, -0.69952377],\n",
              "       [-0.65783317, -1.22731117, -0.69952377],\n",
              "       [-0.65783317, -1.22731117, -0.69952377],\n",
              "       [ 1.28416411,  2.73860744,  2.88479898],\n",
              "       [ 1.5615923 ,  0.35905628,  1.0926376 ]])"
            ]
          },
          "metadata": {
            "tags": []
          },
          "execution_count": 119
        }
      ]
    },
    {
      "cell_type": "code",
      "metadata": {
        "id": "Hm_okorUxKKf",
        "colab_type": "code",
        "colab": {
          "base_uri": "https://localhost:8080/",
          "height": 50
        },
        "outputId": "ca83183d-6ec5-4008-ac30-86279492a9de"
      },
      "source": [
        "from sklearn.model_selection import train_test_split\n",
        "X_train, X_test, y_train, y_test = train_test_split(X, Y, test_size = 0.28)\n",
        "print(\"Training Data : \", X_train.shape,y_train.shape )\n",
        "print(\"Test Data : \", X_test.shape, y_test.shape)"
      ],
      "execution_count": 122,
      "outputs": [
        {
          "output_type": "stream",
          "text": [
            "Training Data :  (6131, 3) (6131, 1)\n",
            "Test Data :  (2385, 3) (2385, 1)\n"
          ],
          "name": "stdout"
        }
      ]
    },
    {
      "cell_type": "markdown",
      "metadata": {
        "id": "JpGF3K5c6zi3",
        "colab_type": "text"
      },
      "source": [
        "### **Building Models**"
      ]
    },
    {
      "cell_type": "markdown",
      "metadata": {
        "id": "9DDF570u7pCU",
        "colab_type": "text"
      },
      "source": [
        "### K-Nearest Neighbours"
      ]
    },
    {
      "cell_type": "code",
      "metadata": {
        "id": "LFJkoLMJx_wg",
        "colab_type": "code",
        "colab": {}
      },
      "source": [
        "from sklearn.neighbors import KNeighborsClassifier\n",
        "from sklearn.preprocessing import MinMaxScaler\n",
        "from sklearn.cluster import KMeans\n"
      ],
      "execution_count": 125,
      "outputs": []
    },
    {
      "cell_type": "code",
      "metadata": {
        "id": "0vsDNU5R8wqP",
        "colab_type": "code",
        "colab": {}
      },
      "source": [
        "Sum_of_squared_distances = []\n",
        "K = range(10,25)\n",
        "for k in K:\n",
        "    km = KMeans(n_clusters=k)\n",
        "    km = km.fit(X_train)\n",
        "    Sum_of_squared_distances.append(km.inertia_)"
      ],
      "execution_count": 149,
      "outputs": []
    },
    {
      "cell_type": "code",
      "metadata": {
        "id": "A5ReSoKY9U9X",
        "colab_type": "code",
        "colab": {
          "base_uri": "https://localhost:8080/",
          "height": 295
        },
        "outputId": "cede958c-15c1-4826-cbe3-bd5bec392bd4"
      },
      "source": [
        "plt.plot(K, Sum_of_squared_distances, 'bx-')\n",
        "plt.xlabel('k')\n",
        "plt.ylabel('Sum_of_squared_distances')\n",
        "plt.title('Elbow Method For Optimal k')\n",
        "plt.show()"
      ],
      "execution_count": 150,
      "outputs": [
        {
          "output_type": "display_data",
          "data": {
            "image/png": "[encoded data removed]",
            "text/plain": [
              "<Figure size 432x288 with 1 Axes>"
            ]
          },
          "metadata": {
            "tags": [],
            "needs_background": "light"
          }
        }
      ]
    },
    {
      "cell_type": "code",
      "metadata": {
        "id": "a45Sl4Lg9fo4",
        "colab_type": "code",
        "colab": {
          "base_uri": "https://localhost:8080/",
          "height": 87
        },
        "outputId": "5623a75d-2b54-4209-c711-a3c582513b2e"
      },
      "source": [
        "knn = KNeighborsClassifier(n_neighbors=11).fit(X_train,y_train)\n",
        "knn.score(X_train,y_train)"
      ],
      "execution_count": 152,
      "outputs": [
        {
          "output_type": "stream",
          "text": [
            "/usr/local/lib/python3.6/dist-packages/ipykernel_launcher.py:1: DataConversionWarning: A column-vector y was passed when a 1d array was expected. Please change the shape of y to (n_samples, ), for example using ravel().\n",
            "  \"\"\"Entry point for launching an IPython kernel.\n"
          ],
          "name": "stderr"
        },
        {
          "output_type": "execute_result",
          "data": {
            "text/plain": [
              "0.5170445278094927"
            ]
          },
          "metadata": {
            "tags": []
          },
          "execution_count": 152
        }
      ]
    },
    {
      "cell_type": "code",
      "metadata": {
        "id": "uYA9he-BARjU",
        "colab_type": "code",
        "colab": {
          "base_uri": "https://localhost:8080/",
          "height": 87
        },
        "outputId": "0e738416-b739-47bb-8808-e40ad5d6c521"
      },
      "source": [
        "knn = KNeighborsClassifier(n_neighbors=11).fit(X_train,y_train)\n",
        "knn.score(X_train,y_train)\n",
        "knn_yhat = knn.predict(X_test)\n",
        "knn.score(X_test,y_test)"
      ],
      "execution_count": 151,
      "outputs": [
        {
          "output_type": "stream",
          "text": [
            "/usr/local/lib/python3.6/dist-packages/ipykernel_launcher.py:1: DataConversionWarning: A column-vector y was passed when a 1d array was expected. Please change the shape of y to (n_samples, ), for example using ravel().\n",
            "  \"\"\"Entry point for launching an IPython kernel.\n"
          ],
          "name": "stderr"
        },
        {
          "output_type": "execute_result",
          "data": {
            "text/plain": [
              "0.5211740041928721"
            ]
          },
          "metadata": {
            "tags": []
          },
          "execution_count": 151
        }
      ]
    },
    {
      "cell_type": "markdown",
      "metadata": {
        "id": "U07TpdiYB6qG",
        "colab_type": "text"
      },
      "source": [
        "### Decision Tree"
      ]
    },
    {
      "cell_type": "code",
      "metadata": {
        "id": "htbsJxW1AWHr",
        "colab_type": "code",
        "colab": {
          "base_uri": "https://localhost:8080/",
          "height": 118
        },
        "outputId": "f9215612-b02c-47b2-bf6e-d7e9f712a06f"
      },
      "source": [
        "from sklearn.tree import DecisionTreeClassifier\n",
        "dtr = DecisionTreeClassifier(criterion=\"entropy\",max_depth=11)\n",
        "dtr.fit(X_train,y_train)"
      ],
      "execution_count": 166,
      "outputs": [
        {
          "output_type": "execute_result",
          "data": {
            "text/plain": [
              "DecisionTreeClassifier(ccp_alpha=0.0, class_weight=None, criterion='entropy',\n",
              "                       max_depth=11, max_features=None, max_leaf_nodes=None,\n",
              "                       min_impurity_decrease=0.0, min_impurity_split=None,\n",
              "                       min_samples_leaf=1, min_samples_split=2,\n",
              "                       min_weight_fraction_leaf=0.0, presort='deprecated',\n",
              "                       random_state=None, splitter='best')"
            ]
          },
          "metadata": {
            "tags": []
          },
          "execution_count": 166
        }
      ]
    },
    {
      "cell_type": "code",
      "metadata": {
        "id": "1z0wmZ5ZCYYh",
        "colab_type": "code",
        "colab": {
          "base_uri": "https://localhost:8080/",
          "height": 34
        },
        "outputId": "369ec56f-927c-4b45-806f-6b379fcc8b3d"
      },
      "source": [
        "dtr_yhat = dtr.predict(X_test)\n",
        "dtr.score(X_test,y_test)"
      ],
      "execution_count": 167,
      "outputs": [
        {
          "output_type": "execute_result",
          "data": {
            "text/plain": [
              "0.5534591194968553"
            ]
          },
          "metadata": {
            "tags": []
          },
          "execution_count": 167
        }
      ]
    },
    {
      "cell_type": "code",
      "metadata": {
        "id": "1bU_RFPBCcxH",
        "colab_type": "code",
        "colab": {
          "base_uri": "https://localhost:8080/",
          "height": 1000
        },
        "outputId": "0e5fbe4c-d17e-4809-b8cc-fc1f8e847aa7"
      },
      "source": [
        "from sklearn import tree\n",
        "fig = plt.figure(figsize=(25,25))\n",
        "tree.plot_tree(dtr,feature_names=['ROADCOND','LIGHTCOND','WEATHER'],class_names=['1','2'],filled = True)"
      ],
      "execution_count": 173,
      "outputs": [
        {
          "output_type": "execute_result",
          "data": {
            "text/plain": [
              "[Text(1083.3675166297119, 1302.375, 'LIGHTCOND <= 2.342\\nentropy = 1.0\\nsamples = 6131\\nvalue = [3028, 3103]\\nclass = 2'),\n",
              " Text(845.970066518847, 1189.125, 'WEATHER <= 1.317\\nentropy = 0.999\\nsamples = 5903\\nvalue = [2821, 3082]\\nclass = 2'),\n",
              " Text(527.3780487804878, 1075.875, 'LIGHTCOND <= -0.831\\nentropy = 0.998\\nsamples = 5776\\nvalue = [2721, 3055]\\nclass = 2'),\n",
              " Text(311.63248337028824, 962.625, 'WEATHER <= 0.869\\nentropy = 1.0\\nsamples = 1598\\nvalue = [820, 778]\\nclass = 1'),\n",
              " Text(190.22727272727275, 849.375, 'LIGHTCOND <= -1.624\\nentropy = 0.997\\nsamples = 1184\\nvalue = [627, 557]\\nclass = 1'),\n",
              " Text(108.25942350332595, 736.125, 'ROADCOND <= -0.103\\nentropy = 0.975\\nsamples = 118\\nvalue = [70, 48]\\nclass = 1'),\n",
              " Text(55.67627494456763, 622.875, 'LIGHTCOND <= -3.21\\nentropy = 0.983\\nsamples = 111\\nvalue = [64, 47]\\nclass = 1'),\n",
              " Text(24.745011086474502, 509.625, 'ROADCOND <= -0.797\\nentropy = 0.995\\nsamples = 59\\nvalue = [32, 27]\\nclass = 1'),\n",
              " Text(12.372505543237251, 396.375, 'entropy = 0.992\\nsamples = 58\\nvalue = [32, 26]\\nclass = 1'),\n",
              " Text(37.11751662971175, 396.375, 'entropy = 0.0\\nsamples = 1\\nvalue = [0, 1]\\nclass = 2'),\n",
              " Text(86.60753880266076, 509.625, 'LIGHTCOND <= -2.417\\nentropy = 0.961\\nsamples = 52\\nvalue = [32, 20]\\nclass = 1'),\n",
              " Text(61.86252771618626, 396.375, 'WEATHER <= -0.027\\nentropy = 0.918\\nsamples = 30\\nvalue = [20, 10]\\nclass = 1'),\n",
              " Text(49.490022172949004, 283.125, 'entropy = 0.855\\nsamples = 25\\nvalue = [18, 7]\\nclass = 1'),\n",
              " Text(74.2350332594235, 283.125, 'entropy = 0.971\\nsamples = 5\\nvalue = [2, 3]\\nclass = 2'),\n",
              " Text(111.35254988913526, 396.375, 'WEATHER <= -0.476\\nentropy = 0.994\\nsamples = 22\\nvalue = [12, 10]\\nclass = 1'),\n",
              " Text(98.98004434589801, 283.125, 'entropy = 1.0\\nsamples = 16\\nvalue = [8, 8]\\nclass = 1'),\n",
              " Text(123.72505543237251, 283.125, 'WEATHER <= 0.197\\nentropy = 0.918\\nsamples = 6\\nvalue = [4, 2]\\nclass = 1'),\n",
              " Text(111.35254988913526, 169.875, 'entropy = 0.0\\nsamples = 1\\nvalue = [1, 0]\\nclass = 1'),\n",
              " Text(136.09756097560975, 169.875, 'entropy = 0.971\\nsamples = 5\\nvalue = [3, 2]\\nclass = 1'),\n",
              " Text(160.84257206208426, 622.875, 'WEATHER <= 0.197\\nentropy = 0.592\\nsamples = 7\\nvalue = [6, 1]\\nclass = 1'),\n",
              " Text(148.470066518847, 509.625, 'WEATHER <= -0.476\\nentropy = 0.918\\nsamples = 3\\nvalue = [2, 1]\\nclass = 1'),\n",
              " Text(136.09756097560975, 396.375, 'entropy = 0.0\\nsamples = 2\\nvalue = [2, 0]\\nclass = 1'),\n",
              " Text(160.84257206208426, 396.375, 'entropy = 0.0\\nsamples = 1\\nvalue = [0, 1]\\nclass = 2'),\n",
              " Text(173.2150776053215, 509.625, 'entropy = 0.0\\nsamples = 4\\nvalue = [4, 0]\\nclass = 1'),\n",
              " Text(272.1951219512195, 736.125, 'ROADCOND <= 0.313\\nentropy = 0.999\\nsamples = 1066\\nvalue = [557, 509]\\nclass = 1'),\n",
              " Text(210.33259423503327, 622.875, 'ROADCOND <= -0.242\\nentropy = 0.999\\nsamples = 930\\nvalue = [481, 449]\\nclass = 1'),\n",
              " Text(197.96008869179602, 509.625, 'WEATHER <= -0.476\\nentropy = 0.999\\nsamples = 927\\nvalue = [481, 446]\\nclass = 1'),\n",
              " Text(185.58758314855876, 396.375, 'entropy = 0.998\\nsamples = 788\\nvalue = [413, 375]\\nclass = 1'),\n",
              " Text(210.33259423503327, 396.375, 'WEATHER <= 0.421\\nentropy = 1.0\\nsamples = 139\\nvalue = [68, 71]\\nclass = 2'),\n",
              " Text(185.58758314855876, 283.125, 'WEATHER <= -0.027\\nentropy = 0.881\\nsamples = 10\\nvalue = [3, 7]\\nclass = 2'),\n",
              " Text(173.2150776053215, 169.875, 'entropy = 0.863\\nsamples = 7\\nvalue = [2, 5]\\nclass = 2'),\n",
              " Text(197.96008869179602, 169.875, 'entropy = 0.918\\nsamples = 3\\nvalue = [1, 2]\\nclass = 2'),\n",
              " Text(235.07760532150778, 283.125, 'ROADCOND <= -0.519\\nentropy = 1.0\\nsamples = 129\\nvalue = [65, 64]\\nclass = 1'),\n",
              " Text(222.70509977827052, 169.875, 'entropy = 1.0\\nsamples = 126\\nvalue = [63, 63]\\nclass = 1'),\n",
              " Text(247.45011086474503, 169.875, 'entropy = 0.918\\nsamples = 3\\nvalue = [2, 1]\\nclass = 1'),\n",
              " Text(222.70509977827052, 509.625, 'entropy = 0.0\\nsamples = 3\\nvalue = [0, 3]\\nclass = 2'),\n",
              " Text(334.05764966740577, 622.875, 'ROADCOND <= 1.423\\nentropy = 0.99\\nsamples = 136\\nvalue = [76, 60]\\nclass = 1'),\n",
              " Text(309.31263858093126, 509.625, 'WEATHER <= 0.421\\nentropy = 0.779\\nsamples = 13\\nvalue = [10, 3]\\nclass = 1'),\n",
              " Text(296.940133037694, 396.375, 'WEATHER <= -0.251\\nentropy = 0.684\\nsamples = 11\\nvalue = [9, 2]\\nclass = 1'),\n",
              " Text(284.56762749445676, 283.125, 'ROADCOND <= 0.868\\nentropy = 0.863\\nsamples = 7\\nvalue = [5, 2]\\nclass = 1'),\n",
              " Text(272.1951219512195, 169.875, 'entropy = 0.0\\nsamples = 1\\nvalue = [1, 0]\\nclass = 1'),\n",
              " Text(296.940133037694, 169.875, 'entropy = 0.918\\nsamples = 6\\nvalue = [4, 2]\\nclass = 1'),\n",
              " Text(309.31263858093126, 283.125, 'entropy = 0.0\\nsamples = 4\\nvalue = [4, 0]\\nclass = 1'),\n",
              " Text(321.6851441241685, 396.375, 'entropy = 1.0\\nsamples = 2\\nvalue = [1, 1]\\nclass = 1'),\n",
              " Text(358.8026607538803, 509.625, 'WEATHER <= -0.476\\nentropy = 0.996\\nsamples = 123\\nvalue = [66, 57]\\nclass = 1'),\n",
              " Text(346.430155210643, 396.375, 'entropy = 0.967\\nsamples = 28\\nvalue = [17, 11]\\nclass = 1'),\n",
              " Text(371.1751662971175, 396.375, 'WEATHER <= 0.197\\nentropy = 0.999\\nsamples = 95\\nvalue = [49, 46]\\nclass = 1'),\n",
              " Text(358.8026607538803, 283.125, 'entropy = 0.918\\nsamples = 3\\nvalue = [1, 2]\\nclass = 2'),\n",
              " Text(383.5476718403548, 283.125, 'entropy = 0.999\\nsamples = 92\\nvalue = [48, 44]\\nclass = 1'),\n",
              " Text(433.0376940133038, 849.375, 'LIGHTCOND <= -2.417\\nentropy = 0.997\\nsamples = 414\\nvalue = [193, 221]\\nclass = 2'),\n",
              " Text(420.66518847006654, 736.125, 'entropy = 0.0\\nsamples = 1\\nvalue = [0, 1]\\nclass = 2'),\n",
              " Text(445.41019955654104, 736.125, 'ROADCOND <= -0.797\\nentropy = 0.997\\nsamples = 413\\nvalue = [193, 220]\\nclass = 2'),\n",
              " Text(433.0376940133038, 622.875, 'entropy = 0.0\\nsamples = 1\\nvalue = [0, 1]\\nclass = 2'),\n",
              " Text(457.7827050997783, 622.875, 'ROADCOND <= 1.423\\nentropy = 0.997\\nsamples = 412\\nvalue = [193, 219]\\nclass = 2'),\n",
              " Text(433.0376940133038, 509.625, 'ROADCOND <= 0.868\\nentropy = 0.98\\nsamples = 12\\nvalue = [7, 5]\\nclass = 1'),\n",
              " Text(420.66518847006654, 396.375, 'ROADCOND <= 0.036\\nentropy = 1.0\\nsamples = 10\\nvalue = [5, 5]\\nclass = 1'),\n",
              " Text(408.2926829268293, 283.125, 'entropy = 0.985\\nsamples = 7\\nvalue = [3, 4]\\nclass = 2'),\n",
              " Text(433.0376940133038, 283.125, 'entropy = 0.918\\nsamples = 3\\nvalue = [2, 1]\\nclass = 1'),\n",
              " Text(445.41019955654104, 396.375, 'entropy = 0.0\\nsamples = 2\\nvalue = [2, 0]\\nclass = 1'),\n",
              " Text(482.5277161862528, 509.625, 'LIGHTCOND <= -1.624\\nentropy = 0.996\\nsamples = 400\\nvalue = [186, 214]\\nclass = 2'),\n",
              " Text(470.15521064301555, 396.375, 'entropy = 0.985\\nsamples = 14\\nvalue = [8, 6]\\nclass = 1'),\n",
              " Text(494.90022172949006, 396.375, 'entropy = 0.996\\nsamples = 386\\nvalue = [178, 208]\\nclass = 2'),\n",
              " Text(743.1236141906874, 962.625, 'WEATHER <= -1.372\\nentropy = 0.994\\nsamples = 4178\\nvalue = [1901, 2277]\\nclass = 2'),\n",
              " Text(730.7511086474501, 849.375, 'entropy = 0.0\\nsamples = 1\\nvalue = [1, 0]\\nclass = 1'),\n",
              " Text(755.4961197339246, 849.375, 'WEATHER <= -0.027\\nentropy = 0.994\\nsamples = 4177\\nvalue = [1900, 2277]\\nclass = 2'),\n",
              " Text(634.0909090909091, 736.125, 'ROADCOND <= -0.519\\nentropy = 0.993\\nsamples = 2788\\nvalue = [1254, 1534]\\nclass = 2'),\n",
              " Text(556.7627494456763, 622.875, 'LIGHTCOND <= 1.549\\nentropy = 0.992\\nsamples = 2703\\nvalue = [1209, 1494]\\nclass = 2'),\n",
              " Text(544.390243902439, 509.625, 'LIGHTCOND <= -0.038\\nentropy = 0.992\\nsamples = 2702\\nvalue = [1208, 1494]\\nclass = 2'),\n",
              " Text(519.6452328159645, 396.375, 'WEATHER <= -0.924\\nentropy = 1.0\\nsamples = 24\\nvalue = [12, 12]\\nclass = 1'),\n",
              " Text(507.2727272727273, 283.125, 'entropy = 0.0\\nsamples = 1\\nvalue = [0, 1]\\nclass = 2'),\n",
              " Text(532.0177383592018, 283.125, 'WEATHER <= -0.476\\nentropy = 0.999\\nsamples = 23\\nvalue = [12, 11]\\nclass = 1'),\n",
              " Text(519.6452328159645, 169.875, 'entropy = 0.994\\nsamples = 22\\nvalue = [12, 10]\\nclass = 1'),\n",
              " Text(544.390243902439, 169.875, 'entropy = 0.0\\nsamples = 1\\nvalue = [0, 1]\\nclass = 2'),\n",
              " Text(569.1352549889135, 396.375, 'WEATHER <= -0.924\\nentropy = 0.992\\nsamples = 2678\\nvalue = [1196, 1482]\\nclass = 2'),\n",
              " Text(556.7627494456763, 283.125, 'entropy = 0.0\\nsamples = 1\\nvalue = [1, 0]\\nclass = 1'),\n",
              " Text(581.5077605321508, 283.125, 'LIGHTCOND <= 0.756\\nentropy = 0.992\\nsamples = 2677\\nvalue = [1195, 1482]\\nclass = 2'),\n",
              " Text(569.1352549889135, 169.875, 'WEATHER <= -0.476\\nentropy = 0.992\\nsamples = 2582\\nvalue = [1152, 1430]\\nclass = 2'),\n",
              " Text(556.7627494456763, 56.625, 'entropy = 0.992\\nsamples = 2575\\nvalue = [1149, 1426]\\nclass = 2'),\n",
              " Text(581.5077605321508, 56.625, 'entropy = 0.985\\nsamples = 7\\nvalue = [3, 4]\\nclass = 2'),\n",
              " Text(593.880266075388, 169.875, 'entropy = 0.994\\nsamples = 95\\nvalue = [43, 52]\\nclass = 2'),\n",
              " Text(569.1352549889135, 509.625, 'entropy = 0.0\\nsamples = 1\\nvalue = [1, 0]\\nclass = 1'),\n",
              " Text(711.419068736142, 622.875, 'ROADCOND <= 1.423\\nentropy = 0.998\\nsamples = 85\\nvalue = [45, 40]\\nclass = 1'),\n",
              " Text(668.1152993348115, 509.625, 'ROADCOND <= 1.007\\nentropy = 0.831\\nsamples = 19\\nvalue = [14, 5]\\nclass = 1'),\n",
              " Text(655.7427937915743, 396.375, 'ROADCOND <= -0.242\\nentropy = 0.94\\nsamples = 14\\nvalue = [9, 5]\\nclass = 1'),\n",
              " Text(630.9977827050998, 283.125, 'LIGHTCOND <= -0.038\\nentropy = 0.722\\nsamples = 10\\nvalue = [8, 2]\\nclass = 1'),\n",
              " Text(618.6252771618625, 169.875, 'entropy = 0.0\\nsamples = 2\\nvalue = [2, 0]\\nclass = 1'),\n",
              " Text(643.370288248337, 169.875, 'entropy = 0.811\\nsamples = 8\\nvalue = [6, 2]\\nclass = 1'),\n",
              " Text(680.4878048780488, 283.125, 'ROADCOND <= 0.174\\nentropy = 0.811\\nsamples = 4\\nvalue = [1, 3]\\nclass = 2'),\n",
              " Text(668.1152993348115, 169.875, 'entropy = 0.0\\nsamples = 1\\nvalue = [0, 1]\\nclass = 2'),\n",
              " Text(692.860310421286, 169.875, 'ROADCOND <= 0.591\\nentropy = 0.918\\nsamples = 3\\nvalue = [1, 2]\\nclass = 2'),\n",
              " Text(680.4878048780488, 56.625, 'entropy = 1.0\\nsamples = 2\\nvalue = [1, 1]\\nclass = 1'),\n",
              " Text(705.2328159645233, 56.625, 'entropy = 0.0\\nsamples = 1\\nvalue = [0, 1]\\nclass = 2'),\n",
              " Text(680.4878048780488, 396.375, 'entropy = 0.0\\nsamples = 5\\nvalue = [5, 0]\\nclass = 1'),\n",
              " Text(754.7228381374723, 509.625, 'LIGHTCOND <= 0.756\\nentropy = 0.997\\nsamples = 66\\nvalue = [31, 35]\\nclass = 2'),\n",
              " Text(742.350332594235, 396.375, 'WEATHER <= -0.476\\nentropy = 0.99\\nsamples = 59\\nvalue = [26, 33]\\nclass = 2'),\n",
              " Text(729.9778270509978, 283.125, 'LIGHTCOND <= -0.038\\nentropy = 0.992\\nsamples = 58\\nvalue = [26, 32]\\nclass = 2'),\n",
              " Text(717.6053215077606, 169.875, 'entropy = 1.0\\nsamples = 2\\nvalue = [1, 1]\\nclass = 1'),\n",
              " Text(742.350332594235, 169.875, 'entropy = 0.992\\nsamples = 56\\nvalue = [25, 31]\\nclass = 2'),\n",
              " Text(754.7228381374723, 283.125, 'entropy = 0.0\\nsamples = 1\\nvalue = [0, 1]\\nclass = 2'),\n",
              " Text(767.0953436807096, 396.375, 'entropy = 0.863\\nsamples = 7\\nvalue = [5, 2]\\nclass = 1'),\n",
              " Text(876.9013303769402, 736.125, 'WEATHER <= 0.421\\nentropy = 0.996\\nsamples = 1389\\nvalue = [646, 743]\\nclass = 2'),\n",
              " Text(816.5853658536586, 622.875, 'LIGHTCOND <= 0.756\\nentropy = 0.414\\nsamples = 12\\nvalue = [11, 1]\\nclass = 1'),\n",
              " Text(804.2128603104213, 509.625, 'ROADCOND <= 0.313\\nentropy = 0.503\\nsamples = 9\\nvalue = [8, 1]\\nclass = 1'),\n",
              " Text(791.8403547671841, 396.375, 'entropy = 0.0\\nsamples = 3\\nvalue = [3, 0]\\nclass = 1'),\n",
              " Text(816.5853658536586, 396.375, 'ROADCOND <= 1.423\\nentropy = 0.65\\nsamples = 6\\nvalue = [5, 1]\\nclass = 1'),\n",
              " Text(804.2128603104213, 283.125, 'entropy = 0.722\\nsamples = 5\\nvalue = [4, 1]\\nclass = 1'),\n",
              " Text(828.9578713968958, 283.125, 'entropy = 0.0\\nsamples = 1\\nvalue = [1, 0]\\nclass = 1'),\n",
              " Text(828.9578713968958, 509.625, 'entropy = 0.0\\nsamples = 3\\nvalue = [3, 0]\\nclass = 1'),\n",
              " Text(937.2172949002218, 622.875, 'LIGHTCOND <= 1.549\\nentropy = 0.996\\nsamples = 1377\\nvalue = [635, 742]\\nclass = 2'),\n",
              " Text(924.8447893569845, 509.625, 'ROADCOND <= 1.423\\nentropy = 0.996\\nsamples = 1373\\nvalue = [635, 738]\\nclass = 2'),\n",
              " Text(866.0753880266076, 396.375, 'ROADCOND <= 1.145\\nentropy = 1.0\\nsamples = 442\\nvalue = [220, 222]\\nclass = 2'),\n",
              " Text(853.7028824833703, 283.125, 'WEATHER <= 0.869\\nentropy = 1.0\\nsamples = 435\\nvalue = [215, 220]\\nclass = 2'),\n",
              " Text(828.9578713968958, 169.875, 'ROADCOND <= -0.103\\nentropy = 1.0\\nsamples = 415\\nvalue = [207, 208]\\nclass = 2'),\n",
              " Text(816.5853658536586, 56.625, 'entropy = 1.0\\nsamples = 414\\nvalue = [206, 208]\\nclass = 2'),\n",
              " Text(841.3303769401331, 56.625, 'entropy = 0.0\\nsamples = 1\\nvalue = [1, 0]\\nclass = 1'),\n",
              " Text(878.4478935698448, 169.875, 'LIGHTCOND <= 0.756\\nentropy = 0.971\\nsamples = 20\\nvalue = [8, 12]\\nclass = 2'),\n",
              " Text(866.0753880266076, 56.625, 'entropy = 0.949\\nsamples = 19\\nvalue = [7, 12]\\nclass = 2'),\n",
              " Text(890.8203991130821, 56.625, 'entropy = 0.0\\nsamples = 1\\nvalue = [1, 0]\\nclass = 1'),\n",
              " Text(878.4478935698448, 283.125, 'entropy = 0.863\\nsamples = 7\\nvalue = [5, 2]\\nclass = 1'),\n",
              " Text(983.6141906873614, 396.375, 'LIGHTCOND <= 0.756\\nentropy = 0.991\\nsamples = 931\\nvalue = [415, 516]\\nclass = 2'),\n",
              " Text(952.6829268292684, 283.125, 'LIGHTCOND <= -0.038\\nentropy = 0.99\\nsamples = 875\\nvalue = [385, 490]\\nclass = 2'),\n",
              " Text(927.9379157427938, 169.875, 'WEATHER <= 0.869\\nentropy = 0.929\\nsamples = 29\\nvalue = [10, 19]\\nclass = 2'),\n",
              " Text(915.5654101995566, 56.625, 'entropy = 1.0\\nsamples = 10\\nvalue = [5, 5]\\nclass = 1'),\n",
              " Text(940.3104212860311, 56.625, 'entropy = 0.831\\nsamples = 19\\nvalue = [5, 14]\\nclass = 2'),\n",
              " Text(977.4279379157429, 169.875, 'WEATHER <= 0.869\\nentropy = 0.991\\nsamples = 846\\nvalue = [375, 471]\\nclass = 2'),\n",
              " Text(965.0554323725056, 56.625, 'entropy = 0.99\\nsamples = 235\\nvalue = [104, 131]\\nclass = 2'),\n",
              " Text(989.8004434589801, 56.625, 'entropy = 0.991\\nsamples = 611\\nvalue = [271, 340]\\nclass = 2'),\n",
              " Text(1014.5454545454546, 283.125, 'WEATHER <= 0.869\\nentropy = 0.996\\nsamples = 56\\nvalue = [30, 26]\\nclass = 1'),\n",
              " Text(1002.1729490022174, 169.875, 'entropy = 1.0\\nsamples = 14\\nvalue = [7, 7]\\nclass = 1'),\n",
              " Text(1026.9179600886919, 169.875, 'entropy = 0.993\\nsamples = 42\\nvalue = [23, 19]\\nclass = 1'),\n",
              " Text(949.589800443459, 509.625, 'entropy = 0.0\\nsamples = 4\\nvalue = [0, 4]\\nclass = 2'),\n",
              " Text(1164.5620842572062, 1075.875, 'ROADCOND <= -0.519\\nentropy = 0.746\\nsamples = 127\\nvalue = [100, 27]\\nclass = 1'),\n",
              " Text(1094.9667405764967, 962.625, 'WEATHER <= 1.765\\nentropy = 0.999\\nsamples = 25\\nvalue = [13, 12]\\nclass = 1'),\n",
              " Text(1082.5942350332596, 849.375, 'entropy = 0.0\\nsamples = 1\\nvalue = [1, 0]\\nclass = 1'),\n",
              " Text(1107.339246119734, 849.375, 'LIGHTCOND <= 0.756\\nentropy = 1.0\\nsamples = 24\\nvalue = [12, 12]\\nclass = 1'),\n",
              " Text(1094.9667405764967, 736.125, 'WEATHER <= 2.213\\nentropy = 0.999\\nsamples = 23\\nvalue = [11, 12]\\nclass = 2'),\n",
              " Text(1082.5942350332596, 622.875, 'entropy = 0.0\\nsamples = 1\\nvalue = [0, 1]\\nclass = 2'),\n",
              " Text(1107.339246119734, 622.875, 'LIGHTCOND <= -0.831\\nentropy = 1.0\\nsamples = 22\\nvalue = [11, 11]\\nclass = 1'),\n",
              " Text(1076.4079822616409, 509.625, 'WEATHER <= 2.661\\nentropy = 0.991\\nsamples = 9\\nvalue = [4, 5]\\nclass = 2'),\n",
              " Text(1051.6629711751664, 396.375, 'LIGHTCOND <= -2.02\\nentropy = 1.0\\nsamples = 2\\nvalue = [1, 1]\\nclass = 1'),\n",
              " Text(1039.290465631929, 283.125, 'entropy = 0.0\\nsamples = 1\\nvalue = [0, 1]\\nclass = 2'),\n",
              " Text(1064.0354767184035, 283.125, 'entropy = 0.0\\nsamples = 1\\nvalue = [1, 0]\\nclass = 1'),\n",
              " Text(1101.1529933481154, 396.375, 'LIGHTCOND <= -2.02\\nentropy = 0.985\\nsamples = 7\\nvalue = [3, 4]\\nclass = 2'),\n",
              " Text(1088.780487804878, 283.125, 'entropy = 0.0\\nsamples = 1\\nvalue = [1, 0]\\nclass = 1'),\n",
              " Text(1113.5254988913525, 283.125, 'entropy = 0.918\\nsamples = 6\\nvalue = [2, 4]\\nclass = 2'),\n",
              " Text(1138.270509977827, 509.625, 'LIGHTCOND <= -0.038\\nentropy = 0.996\\nsamples = 13\\nvalue = [7, 6]\\nclass = 1'),\n",
              " Text(1125.89800443459, 396.375, 'entropy = 1.0\\nsamples = 2\\nvalue = [1, 1]\\nclass = 1'),\n",
              " Text(1150.6430155210644, 396.375, 'entropy = 0.994\\nsamples = 11\\nvalue = [6, 5]\\nclass = 1'),\n",
              " Text(1119.7117516629712, 736.125, 'entropy = 0.0\\nsamples = 1\\nvalue = [1, 0]\\nclass = 1'),\n",
              " Text(1234.1574279379158, 962.625, 'LIGHTCOND <= -1.624\\nentropy = 0.602\\nsamples = 102\\nvalue = [87, 15]\\nclass = 1'),\n",
              " Text(1221.7849223946785, 849.375, 'entropy = 0.0\\nsamples = 5\\nvalue = [5, 0]\\nclass = 1'),\n",
              " Text(1246.529933481153, 849.375, 'ROADCOND <= 0.452\\nentropy = 0.621\\nsamples = 97\\nvalue = [82, 15]\\nclass = 1'),\n",
              " Text(1234.1574279379158, 736.125, 'entropy = 0.0\\nsamples = 5\\nvalue = [5, 0]\\nclass = 1'),\n",
              " Text(1258.9024390243903, 736.125, 'ROADCOND <= 1.423\\nentropy = 0.642\\nsamples = 92\\nvalue = [77, 15]\\nclass = 1'),\n",
              " Text(1218.6917960088692, 622.875, 'LIGHTCOND <= -0.831\\nentropy = 0.617\\nsamples = 85\\nvalue = [72, 13]\\nclass = 1'),\n",
              " Text(1187.760532150776, 509.625, 'ROADCOND <= 1.007\\nentropy = 0.449\\nsamples = 32\\nvalue = [29, 3]\\nclass = 1'),\n",
              " Text(1175.388026607539, 396.375, 'WEATHER <= 2.213\\nentropy = 0.811\\nsamples = 4\\nvalue = [3, 1]\\nclass = 1'),\n",
              " Text(1163.0155210643015, 283.125, 'entropy = 0.0\\nsamples = 1\\nvalue = [1, 0]\\nclass = 1'),\n",
              " Text(1187.760532150776, 283.125, 'entropy = 0.918\\nsamples = 3\\nvalue = [2, 1]\\nclass = 1'),\n",
              " Text(1200.1330376940134, 396.375, 'entropy = 0.371\\nsamples = 28\\nvalue = [26, 2]\\nclass = 1'),\n",
              " Text(1249.6230598669624, 509.625, 'LIGHTCOND <= -0.038\\nentropy = 0.699\\nsamples = 53\\nvalue = [43, 10]\\nclass = 1'),\n",
              " Text(1224.878048780488, 396.375, 'WEATHER <= 2.661\\nentropy = 1.0\\nsamples = 2\\nvalue = [1, 1]\\nclass = 1'),\n",
              " Text(1212.5055432372505, 283.125, 'entropy = 0.0\\nsamples = 1\\nvalue = [1, 0]\\nclass = 1'),\n",
              " Text(1237.250554323725, 283.125, 'entropy = 0.0\\nsamples = 1\\nvalue = [0, 1]\\nclass = 2'),\n",
              " Text(1274.368070953437, 396.375, 'LIGHTCOND <= 0.756\\nentropy = 0.672\\nsamples = 51\\nvalue = [42, 9]\\nclass = 1'),\n",
              " Text(1261.9955654101996, 283.125, 'WEATHER <= 2.661\\nentropy = 0.658\\nsamples = 47\\nvalue = [39, 8]\\nclass = 1'),\n",
              " Text(1249.6230598669624, 169.875, 'entropy = 0.592\\nsamples = 7\\nvalue = [6, 1]\\nclass = 1'),\n",
              " Text(1274.368070953437, 169.875, 'entropy = 0.669\\nsamples = 40\\nvalue = [33, 7]\\nclass = 1'),\n",
              " Text(1286.740576496674, 283.125, 'entropy = 0.811\\nsamples = 4\\nvalue = [3, 1]\\nclass = 1'),\n",
              " Text(1299.1130820399114, 622.875, 'LIGHTCOND <= -0.831\\nentropy = 0.863\\nsamples = 7\\nvalue = [5, 2]\\nclass = 1'),\n",
              " Text(1286.740576496674, 509.625, 'entropy = 0.0\\nsamples = 1\\nvalue = [0, 1]\\nclass = 2'),\n",
              " Text(1311.4855875831486, 509.625, 'LIGHTCOND <= -0.038\\nentropy = 0.65\\nsamples = 6\\nvalue = [5, 1]\\nclass = 1'),\n",
              " Text(1299.1130820399114, 396.375, 'entropy = 0.0\\nsamples = 1\\nvalue = [1, 0]\\nclass = 1'),\n",
              " Text(1323.858093126386, 396.375, 'WEATHER <= 2.661\\nentropy = 0.722\\nsamples = 5\\nvalue = [4, 1]\\nclass = 1'),\n",
              " Text(1311.4855875831486, 283.125, 'entropy = 0.0\\nsamples = 1\\nvalue = [1, 0]\\nclass = 1'),\n",
              " Text(1336.230598669623, 283.125, 'entropy = 0.811\\nsamples = 4\\nvalue = [3, 1]\\nclass = 1'),\n",
              " Text(1320.7649667405765, 1189.125, 'ROADCOND <= -0.242\\nentropy = 0.443\\nsamples = 228\\nvalue = [207, 21]\\nclass = 1'),\n",
              " Text(1296.019955654102, 1075.875, 'WEATHER <= 1.765\\nentropy = 0.551\\nsamples = 47\\nvalue = [41, 6]\\nclass = 1'),\n",
              " Text(1283.6474501108648, 962.625, 'WEATHER <= -0.027\\nentropy = 0.469\\nsamples = 40\\nvalue = [36, 4]\\nclass = 1'),\n",
              " Text(1271.2749445676275, 849.375, 'entropy = 0.494\\nsamples = 37\\nvalue = [33, 4]\\nclass = 1'),\n",
              " Text(1296.019955654102, 849.375, 'entropy = 0.0\\nsamples = 3\\nvalue = [3, 0]\\nclass = 1'),\n",
              " Text(1308.3924611973393, 962.625, 'entropy = 0.863\\nsamples = 7\\nvalue = [5, 2]\\nclass = 1'),\n",
              " Text(1345.509977827051, 1075.875, 'WEATHER <= 0.869\\nentropy = 0.412\\nsamples = 181\\nvalue = [166, 15]\\nclass = 1'),\n",
              " Text(1333.1374722838138, 962.625, 'entropy = 0.0\\nsamples = 15\\nvalue = [15, 0]\\nclass = 1'),\n",
              " Text(1357.8824833702884, 962.625, 'ROADCOND <= 1.007\\nentropy = 0.438\\nsamples = 166\\nvalue = [151, 15]\\nclass = 1'),\n",
              " Text(1345.509977827051, 849.375, 'entropy = 0.0\\nsamples = 5\\nvalue = [5, 0]\\nclass = 1'),\n",
              " Text(1370.2549889135255, 849.375, 'WEATHER <= 1.989\\nentropy = 0.447\\nsamples = 161\\nvalue = [146, 15]\\nclass = 1'),\n",
              " Text(1357.8824833702884, 736.125, 'entropy = 0.65\\nsamples = 6\\nvalue = [5, 1]\\nclass = 1'),\n",
              " Text(1382.6274944567629, 736.125, 'entropy = 0.438\\nsamples = 155\\nvalue = [141, 14]\\nclass = 1')]"
            ]
          },
          "metadata": {
            "tags": []
          },
          "execution_count": 173
        },
        {
          "output_type": "display_data",
          "data": {
            "image/png": "[encoded data removed]",
            "text/plain": [
              "<Figure size 1800x1800 with 1 Axes>"
            ]
          },
          "metadata": {
            "tags": [],
            "needs_background": "light"
          }
        }
      ]
    },
    {
      "cell_type": "code",
      "metadata": {
        "id": "qQY_XqL5DU7b",
        "colab_type": "code",
        "colab": {}
      },
      "source": [
        ""
      ],
      "execution_count": null,
      "outputs": []
    },
    {
      "cell_type": "markdown",
      "metadata": {
        "id": "5Ds8zaxNEwdS",
        "colab_type": "text"
      },
      "source": [
        "### Logistic Regression"
      ]
    },
    {
      "cell_type": "code",
      "metadata": {
        "id": "IPMLplGIEzCG",
        "colab_type": "code",
        "colab": {
          "base_uri": "https://localhost:8080/",
          "height": 87
        },
        "outputId": "f4001ba4-4481-4368-cb5b-a9dac14bf53e"
      },
      "source": [
        "from sklearn.linear_model import LogisticRegression\n",
        "from sklearn.metrics import confusion_matrix\n",
        "lgr = LogisticRegression(C=7, solver='saga')\n",
        "lgr.fit(X_train,y_train)\n",
        "lgr.score(X_train,y_train)"
      ],
      "execution_count": 194,
      "outputs": [
        {
          "output_type": "stream",
          "text": [
            "/usr/local/lib/python3.6/dist-packages/sklearn/utils/validation.py:760: DataConversionWarning: A column-vector y was passed when a 1d array was expected. Please change the shape of y to (n_samples, ), for example using ravel().\n",
            "  y = column_or_1d(y, warn=True)\n"
          ],
          "name": "stderr"
        },
        {
          "output_type": "execute_result",
          "data": {
            "text/plain": [
              "0.5251998042733649"
            ]
          },
          "metadata": {
            "tags": []
          },
          "execution_count": 194
        }
      ]
    },
    {
      "cell_type": "code",
      "metadata": {
        "id": "TEZz0H6nFTyF",
        "colab_type": "code",
        "colab": {
          "base_uri": "https://localhost:8080/",
          "height": 34
        },
        "outputId": "22c05923-5ce7-4784-f917-0378a572a4b9"
      },
      "source": [
        "lgr_yhat = lgr.predict(X_test)\n",
        "lgr.score(X_test,y_test)"
      ],
      "execution_count": 195,
      "outputs": [
        {
          "output_type": "execute_result",
          "data": {
            "text/plain": [
              "0.5236897274633123"
            ]
          },
          "metadata": {
            "tags": []
          },
          "execution_count": 195
        }
      ]
    },
    {
      "cell_type": "markdown",
      "metadata": {
        "id": "9zrfi9YzGYf7",
        "colab_type": "text"
      },
      "source": [
        "### **Evaluation of Models**"
      ]
    },
    {
      "cell_type": "code",
      "metadata": {
        "id": "UzhJVSOqFmTn",
        "colab_type": "code",
        "colab": {}
      },
      "source": [
        "from sklearn.metrics import jaccard_score, f1_score, log_loss\n"
      ],
      "execution_count": 196,
      "outputs": []
    },
    {
      "cell_type": "markdown",
      "metadata": {
        "id": "9yGtFGaxHdoM",
        "colab_type": "text"
      },
      "source": [
        "K-Nearest Neighbours"
      ]
    },
    {
      "cell_type": "code",
      "metadata": {
        "id": "TSEgvW_FHbFM",
        "colab_type": "code",
        "colab": {}
      },
      "source": [
        ""
      ],
      "execution_count": null,
      "outputs": []
    }
  ]
}